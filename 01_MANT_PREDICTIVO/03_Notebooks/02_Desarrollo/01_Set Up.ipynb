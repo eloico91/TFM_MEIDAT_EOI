{
 "cells": [
  {
   "cell_type": "markdown",
   "id": "88094b04",
   "metadata": {},
   "source": [
    "# PLANTILLA SET UP"
   ]
  },
  {
   "cell_type": "markdown",
   "id": "7805288f",
   "metadata": {},
   "source": [
    "**IMPORTANTE**: Recuerda hacer una copia de esta plantilla para no machacar la original."
   ]
  },
  {
   "cell_type": "markdown",
   "id": "2cc6b0de",
   "metadata": {},
   "source": [
    "## CREAR EL ENTORNO PARA EL PROYECTO"
   ]
  },
  {
   "cell_type": "markdown",
   "id": "ec2c52fc",
   "metadata": {},
   "source": [
    "Crear un nuevo entorno e instalar los paquetes básicos:\n",
    "\n",
    "1. Ir al prompt o terminal\n",
    "2. Copiar y poner la línea inferior:\n",
    "\n",
    "conda create --name proyecto1 python numpy pandas matplotlib seaborn scikit-learn scipy sqlalchemy xgboost jupyter\n",
    "\n",
    "3. Activar el nuevo entorno:\n",
    "\n",
    "conda activate proyecto1\n",
    "\n",
    "4. Instalar los paquetes que están en otros canales:\n",
    "\n",
    "conda install -c conda-forge pyjanitor scikit-plot yellowbrick imbalanced-learn jupyter_contrib_nbextensions cloudpickle\n",
    "\n",
    "conda install -c districtdatalabs yellowbrick\n",
    "\n",
    "pip install category_encoders\n",
    "\n",
    "5. Crear el environment.yml\n",
    "\n",
    "conda env export > proyecto1.yml\n",
    "\n",
    "*Nota: es posible que te lo haya creado en C:\\Users\\tu_usuario, más adelante moveremos este archivo al directorio del proyecto*"
   ]
  },
  {
   "cell_type": "markdown",
   "id": "234469e4",
   "metadata": {},
   "source": [
    "## IMPORTAR PAQUETES"
   ]
  },
  {
   "cell_type": "code",
   "execution_count": 1,
   "id": "18dab684",
   "metadata": {},
   "outputs": [],
   "source": [
    "import os\n",
    "import numpy as np\n",
    "import pandas as pd\n",
    "\n",
    "#Automcompletar rápido\n",
    "%config IPCompleter.greedy=True"
   ]
  },
  {
   "cell_type": "markdown",
   "id": "aa2291ac",
   "metadata": {},
   "source": [
    "## CREAR EL DIRECTORIO DEL PROYECTO"
   ]
  },
  {
   "cell_type": "markdown",
   "id": "9b376a0e",
   "metadata": {},
   "source": [
    "### Definir el directorio raiz donde vamos a crear el proyecto"
   ]
  },
  {
   "cell_type": "code",
   "execution_count": 2,
   "id": "ff896569",
   "metadata": {},
   "outputs": [],
   "source": [
    "raiz = 'C:/Users/eloic/Google Drive/EOI/TFM/'"
   ]
  },
  {
   "cell_type": "markdown",
   "id": "ded3d58c",
   "metadata": {},
   "source": [
    "### Definir el nombre del proyecto"
   ]
  },
  {
   "cell_type": "code",
   "execution_count": 3,
   "id": "3b7dece1",
   "metadata": {},
   "outputs": [],
   "source": [
    "nombre_dir = '01_MANT_PREDICTIVO'"
   ]
  },
  {
   "cell_type": "markdown",
   "id": "e98c881a",
   "metadata": {},
   "source": [
    "### Crear el directorio y la estructura del proyecto"
   ]
  },
  {
   "cell_type": "code",
   "execution_count": 4,
   "id": "ea789940",
   "metadata": {},
   "outputs": [
    {
     "name": "stdout",
     "output_type": "stream",
     "text": [
      "La creación del directorio C:/Users/eloic/Google Drive/EOI/TFM/01_MANT_PREDICTIVO ha fallado\n"
     ]
    }
   ],
   "source": [
    "path = raiz + nombre_dir\n",
    "\n",
    "try:\n",
    "    os.mkdir(path)\n",
    "    os.mkdir(path + '/01_Documentos')\n",
    "    os.mkdir(path + '/02_Datos')\n",
    "    os.mkdir(path + '/02_Datos/01_Originales')\n",
    "    os.mkdir(path + '/02_Datos/02_Validacion')\n",
    "    os.mkdir(path + '/02_Datos/03_Trabajo')\n",
    "    os.mkdir(path + '/02_Datos/04_Caches')\n",
    "    os.mkdir(path + '/03_Notebooks')\n",
    "    os.mkdir(path + '/03_Notebooks/01_Funciones')\n",
    "    os.mkdir(path + '/03_Notebooks/02_Desarrollo')\n",
    "    os.mkdir(path + '/03_Notebooks/03_Sistema')\n",
    "    os.mkdir(path + '/04_Modelos')\n",
    "    os.mkdir(path + '/05_Resultados')\n",
    "    os.mkdir(path + '/09_Otros')\n",
    "    \n",
    "except OSError:\n",
    "    print (\"La creación del directorio %s ha fallado\" % path)\n",
    "else:\n",
    "    print (\"Se ha creado satisfactoriamente el directorio %s \" % path)"
   ]
  },
  {
   "cell_type": "markdown",
   "id": "fbdda974",
   "metadata": {},
   "source": [
    "### Situar el directorio de trabajo en el proyecto"
   ]
  },
  {
   "cell_type": "code",
   "execution_count": 5,
   "id": "6cf7027a",
   "metadata": {},
   "outputs": [],
   "source": [
    "os.chdir(path)"
   ]
  },
  {
   "cell_type": "markdown",
   "id": "c80bcf5b",
   "metadata": {},
   "source": [
    "### Mover el environment.yml"
   ]
  },
  {
   "cell_type": "markdown",
   "id": "5cfd72fa",
   "metadata": {},
   "source": [
    "Buscar manualmente el archivo proyecto1.yml, que posiblemente lo haya ubicado en C:\\Users\\tu_usuario y moverlo a la carpeta /01_Documentos'"
   ]
  },
  {
   "cell_type": "markdown",
   "id": "eaae5ba8",
   "metadata": {},
   "source": [
    "## CREAR LOS DATASETS INICIALES"
   ]
  },
  {
   "cell_type": "markdown",
   "id": "18e327d2",
   "metadata": {},
   "source": [
    "Poner los datos originales en la carpeta '/02_Datos/01_Originales'"
   ]
  },
  {
   "cell_type": "markdown",
   "id": "7e6b4179",
   "metadata": {},
   "source": [
    "### Importar los datos"
   ]
  },
  {
   "cell_type": "markdown",
   "id": "a0aada6d",
   "metadata": {},
   "source": [
    "Sustituir el nombre_fichero_datos."
   ]
  },
  {
   "cell_type": "code",
   "execution_count": 6,
   "id": "a991faf3",
   "metadata": {},
   "outputs": [],
   "source": [
    "nombre_fichero_datos = 'MntoMaquina_mod.xlsx'"
   ]
  },
  {
   "cell_type": "markdown",
   "id": "6f69525e",
   "metadata": {},
   "source": [
    "Cargar los datos."
   ]
  },
  {
   "cell_type": "code",
   "execution_count": 7,
   "id": "0af0f484",
   "metadata": {},
   "outputs": [
    {
     "data": {
      "text/html": [
       "<div>\n",
       "<style scoped>\n",
       "    .dataframe tbody tr th:only-of-type {\n",
       "        vertical-align: middle;\n",
       "    }\n",
       "\n",
       "    .dataframe tbody tr th {\n",
       "        vertical-align: top;\n",
       "    }\n",
       "\n",
       "    .dataframe thead th {\n",
       "        text-align: right;\n",
       "    }\n",
       "</style>\n",
       "<table border=\"1\" class=\"dataframe\">\n",
       "  <thead>\n",
       "    <tr style=\"text-align: right;\">\n",
       "      <th></th>\n",
       "      <th>Temperature</th>\n",
       "      <th>Humidity</th>\n",
       "      <th>Operator</th>\n",
       "      <th>Measure1</th>\n",
       "      <th>Measure2</th>\n",
       "      <th>Measure3</th>\n",
       "      <th>Measure4</th>\n",
       "      <th>Measure5</th>\n",
       "      <th>Measure6</th>\n",
       "      <th>Measure7</th>\n",
       "      <th>...</th>\n",
       "      <th>Measure15</th>\n",
       "      <th>Hours Since Previous Failure</th>\n",
       "      <th>Failure</th>\n",
       "      <th>﻿Date.year</th>\n",
       "      <th>﻿Date.month</th>\n",
       "      <th>﻿Date.day-of-month</th>\n",
       "      <th>﻿Date.day-of-week</th>\n",
       "      <th>﻿Date.hour</th>\n",
       "      <th>﻿Date.minute</th>\n",
       "      <th>﻿Date.second</th>\n",
       "    </tr>\n",
       "    <tr>\n",
       "      <th>Date</th>\n",
       "      <th></th>\n",
       "      <th></th>\n",
       "      <th></th>\n",
       "      <th></th>\n",
       "      <th></th>\n",
       "      <th></th>\n",
       "      <th></th>\n",
       "      <th></th>\n",
       "      <th></th>\n",
       "      <th></th>\n",
       "      <th></th>\n",
       "      <th></th>\n",
       "      <th></th>\n",
       "      <th></th>\n",
       "      <th></th>\n",
       "      <th></th>\n",
       "      <th></th>\n",
       "      <th></th>\n",
       "      <th></th>\n",
       "      <th></th>\n",
       "      <th></th>\n",
       "    </tr>\n",
       "  </thead>\n",
       "  <tbody>\n",
       "    <tr>\n",
       "      <th>2016-01-01 01:00:00</th>\n",
       "      <td>68</td>\n",
       "      <td>77</td>\n",
       "      <td>Operator1</td>\n",
       "      <td>1180</td>\n",
       "      <td>1</td>\n",
       "      <td>1</td>\n",
       "      <td>1915</td>\n",
       "      <td>1194</td>\n",
       "      <td>637</td>\n",
       "      <td>1093</td>\n",
       "      <td>...</td>\n",
       "      <td>748</td>\n",
       "      <td>91</td>\n",
       "      <td>No</td>\n",
       "      <td>2016</td>\n",
       "      <td>1</td>\n",
       "      <td>1</td>\n",
       "      <td>5</td>\n",
       "      <td>1</td>\n",
       "      <td>0</td>\n",
       "      <td>0</td>\n",
       "    </tr>\n",
       "    <tr>\n",
       "      <th>2016-01-01 02:00:00</th>\n",
       "      <td>64</td>\n",
       "      <td>76</td>\n",
       "      <td>Operator1</td>\n",
       "      <td>1406</td>\n",
       "      <td>1</td>\n",
       "      <td>1</td>\n",
       "      <td>511</td>\n",
       "      <td>1577</td>\n",
       "      <td>1121</td>\n",
       "      <td>1948</td>\n",
       "      <td>...</td>\n",
       "      <td>1689</td>\n",
       "      <td>92</td>\n",
       "      <td>No</td>\n",
       "      <td>2016</td>\n",
       "      <td>1</td>\n",
       "      <td>1</td>\n",
       "      <td>5</td>\n",
       "      <td>2</td>\n",
       "      <td>0</td>\n",
       "      <td>0</td>\n",
       "    </tr>\n",
       "    <tr>\n",
       "      <th>2016-01-01 03:00:00</th>\n",
       "      <td>63</td>\n",
       "      <td>80</td>\n",
       "      <td>Operator1</td>\n",
       "      <td>550</td>\n",
       "      <td>1</td>\n",
       "      <td>1</td>\n",
       "      <td>1754</td>\n",
       "      <td>1834</td>\n",
       "      <td>1413</td>\n",
       "      <td>1151</td>\n",
       "      <td>...</td>\n",
       "      <td>711</td>\n",
       "      <td>93</td>\n",
       "      <td>No</td>\n",
       "      <td>2016</td>\n",
       "      <td>1</td>\n",
       "      <td>1</td>\n",
       "      <td>5</td>\n",
       "      <td>3</td>\n",
       "      <td>0</td>\n",
       "      <td>0</td>\n",
       "    </tr>\n",
       "    <tr>\n",
       "      <th>2016-01-01 04:00:00</th>\n",
       "      <td>65</td>\n",
       "      <td>81</td>\n",
       "      <td>Operator1</td>\n",
       "      <td>1928</td>\n",
       "      <td>1</td>\n",
       "      <td>2</td>\n",
       "      <td>1326</td>\n",
       "      <td>1082</td>\n",
       "      <td>233</td>\n",
       "      <td>1441</td>\n",
       "      <td>...</td>\n",
       "      <td>507</td>\n",
       "      <td>94</td>\n",
       "      <td>No</td>\n",
       "      <td>2016</td>\n",
       "      <td>1</td>\n",
       "      <td>1</td>\n",
       "      <td>5</td>\n",
       "      <td>4</td>\n",
       "      <td>0</td>\n",
       "      <td>0</td>\n",
       "    </tr>\n",
       "    <tr>\n",
       "      <th>2016-01-01 07:00:00</th>\n",
       "      <td>67</td>\n",
       "      <td>76</td>\n",
       "      <td>Operator1</td>\n",
       "      <td>1021</td>\n",
       "      <td>2</td>\n",
       "      <td>1</td>\n",
       "      <td>185</td>\n",
       "      <td>170</td>\n",
       "      <td>952</td>\n",
       "      <td>1183</td>\n",
       "      <td>...</td>\n",
       "      <td>844</td>\n",
       "      <td>97</td>\n",
       "      <td>Yes</td>\n",
       "      <td>2016</td>\n",
       "      <td>1</td>\n",
       "      <td>1</td>\n",
       "      <td>5</td>\n",
       "      <td>7</td>\n",
       "      <td>0</td>\n",
       "      <td>0</td>\n",
       "    </tr>\n",
       "    <tr>\n",
       "      <th>...</th>\n",
       "      <td>...</td>\n",
       "      <td>...</td>\n",
       "      <td>...</td>\n",
       "      <td>...</td>\n",
       "      <td>...</td>\n",
       "      <td>...</td>\n",
       "      <td>...</td>\n",
       "      <td>...</td>\n",
       "      <td>...</td>\n",
       "      <td>...</td>\n",
       "      <td>...</td>\n",
       "      <td>...</td>\n",
       "      <td>...</td>\n",
       "      <td>...</td>\n",
       "      <td>...</td>\n",
       "      <td>...</td>\n",
       "      <td>...</td>\n",
       "      <td>...</td>\n",
       "      <td>...</td>\n",
       "      <td>...</td>\n",
       "      <td>...</td>\n",
       "    </tr>\n",
       "    <tr>\n",
       "      <th>2016-12-31 18:00:00</th>\n",
       "      <td>61</td>\n",
       "      <td>82</td>\n",
       "      <td>Operator8</td>\n",
       "      <td>1613</td>\n",
       "      <td>2</td>\n",
       "      <td>0</td>\n",
       "      <td>918</td>\n",
       "      <td>1710</td>\n",
       "      <td>440</td>\n",
       "      <td>1783</td>\n",
       "      <td>...</td>\n",
       "      <td>1575</td>\n",
       "      <td>6</td>\n",
       "      <td>No</td>\n",
       "      <td>2016</td>\n",
       "      <td>12</td>\n",
       "      <td>31</td>\n",
       "      <td>6</td>\n",
       "      <td>18</td>\n",
       "      <td>0</td>\n",
       "      <td>0</td>\n",
       "    </tr>\n",
       "    <tr>\n",
       "      <th>2016-12-31 19:00:00</th>\n",
       "      <td>66</td>\n",
       "      <td>79</td>\n",
       "      <td>Operator8</td>\n",
       "      <td>937</td>\n",
       "      <td>0</td>\n",
       "      <td>2</td>\n",
       "      <td>1875</td>\n",
       "      <td>1719</td>\n",
       "      <td>219</td>\n",
       "      <td>748</td>\n",
       "      <td>...</td>\n",
       "      <td>410</td>\n",
       "      <td>7</td>\n",
       "      <td>No</td>\n",
       "      <td>2016</td>\n",
       "      <td>12</td>\n",
       "      <td>31</td>\n",
       "      <td>6</td>\n",
       "      <td>19</td>\n",
       "      <td>0</td>\n",
       "      <td>0</td>\n",
       "    </tr>\n",
       "    <tr>\n",
       "      <th>2016-12-31 20:00:00</th>\n",
       "      <td>60</td>\n",
       "      <td>77</td>\n",
       "      <td>Operator8</td>\n",
       "      <td>379</td>\n",
       "      <td>3</td>\n",
       "      <td>0</td>\n",
       "      <td>814</td>\n",
       "      <td>1990</td>\n",
       "      <td>1606</td>\n",
       "      <td>1346</td>\n",
       "      <td>...</td>\n",
       "      <td>943</td>\n",
       "      <td>8</td>\n",
       "      <td>No</td>\n",
       "      <td>2016</td>\n",
       "      <td>12</td>\n",
       "      <td>31</td>\n",
       "      <td>6</td>\n",
       "      <td>20</td>\n",
       "      <td>0</td>\n",
       "      <td>0</td>\n",
       "    </tr>\n",
       "    <tr>\n",
       "      <th>2016-12-31 21:00:00</th>\n",
       "      <td>61</td>\n",
       "      <td>77</td>\n",
       "      <td>Operator8</td>\n",
       "      <td>595</td>\n",
       "      <td>3</td>\n",
       "      <td>1</td>\n",
       "      <td>1659</td>\n",
       "      <td>1134</td>\n",
       "      <td>1314</td>\n",
       "      <td>907</td>\n",
       "      <td>...</td>\n",
       "      <td>200</td>\n",
       "      <td>9</td>\n",
       "      <td>No</td>\n",
       "      <td>2016</td>\n",
       "      <td>12</td>\n",
       "      <td>31</td>\n",
       "      <td>6</td>\n",
       "      <td>21</td>\n",
       "      <td>0</td>\n",
       "      <td>0</td>\n",
       "    </tr>\n",
       "    <tr>\n",
       "      <th>2016-12-31 23:00:00</th>\n",
       "      <td>60</td>\n",
       "      <td>82</td>\n",
       "      <td>Operator8</td>\n",
       "      <td>399</td>\n",
       "      <td>0</td>\n",
       "      <td>1</td>\n",
       "      <td>324</td>\n",
       "      <td>1424</td>\n",
       "      <td>809</td>\n",
       "      <td>919</td>\n",
       "      <td>...</td>\n",
       "      <td>1548</td>\n",
       "      <td>11</td>\n",
       "      <td>No</td>\n",
       "      <td>2016</td>\n",
       "      <td>12</td>\n",
       "      <td>31</td>\n",
       "      <td>6</td>\n",
       "      <td>23</td>\n",
       "      <td>0</td>\n",
       "      <td>0</td>\n",
       "    </tr>\n",
       "  </tbody>\n",
       "</table>\n",
       "<p>7027 rows × 27 columns</p>\n",
       "</div>"
      ],
      "text/plain": [
       "                     Temperature  Humidity   Operator  Measure1  Measure2  \\\n",
       "Date                                                                        \n",
       "2016-01-01 01:00:00           68        77  Operator1      1180         1   \n",
       "2016-01-01 02:00:00           64        76  Operator1      1406         1   \n",
       "2016-01-01 03:00:00           63        80  Operator1       550         1   \n",
       "2016-01-01 04:00:00           65        81  Operator1      1928         1   \n",
       "2016-01-01 07:00:00           67        76  Operator1      1021         2   \n",
       "...                          ...       ...        ...       ...       ...   \n",
       "2016-12-31 18:00:00           61        82  Operator8      1613         2   \n",
       "2016-12-31 19:00:00           66        79  Operator8       937         0   \n",
       "2016-12-31 20:00:00           60        77  Operator8       379         3   \n",
       "2016-12-31 21:00:00           61        77  Operator8       595         3   \n",
       "2016-12-31 23:00:00           60        82  Operator8       399         0   \n",
       "\n",
       "                     Measure3  Measure4  Measure5  Measure6  Measure7  ...  \\\n",
       "Date                                                                   ...   \n",
       "2016-01-01 01:00:00         1      1915      1194       637      1093  ...   \n",
       "2016-01-01 02:00:00         1       511      1577      1121      1948  ...   \n",
       "2016-01-01 03:00:00         1      1754      1834      1413      1151  ...   \n",
       "2016-01-01 04:00:00         2      1326      1082       233      1441  ...   \n",
       "2016-01-01 07:00:00         1       185       170       952      1183  ...   \n",
       "...                       ...       ...       ...       ...       ...  ...   \n",
       "2016-12-31 18:00:00         0       918      1710       440      1783  ...   \n",
       "2016-12-31 19:00:00         2      1875      1719       219       748  ...   \n",
       "2016-12-31 20:00:00         0       814      1990      1606      1346  ...   \n",
       "2016-12-31 21:00:00         1      1659      1134      1314       907  ...   \n",
       "2016-12-31 23:00:00         1       324      1424       809       919  ...   \n",
       "\n",
       "                     Measure15  Hours Since Previous Failure  Failure  \\\n",
       "Date                                                                    \n",
       "2016-01-01 01:00:00        748                            91       No   \n",
       "2016-01-01 02:00:00       1689                            92       No   \n",
       "2016-01-01 03:00:00        711                            93       No   \n",
       "2016-01-01 04:00:00        507                            94       No   \n",
       "2016-01-01 07:00:00        844                            97      Yes   \n",
       "...                        ...                           ...      ...   \n",
       "2016-12-31 18:00:00       1575                             6       No   \n",
       "2016-12-31 19:00:00        410                             7       No   \n",
       "2016-12-31 20:00:00        943                             8       No   \n",
       "2016-12-31 21:00:00        200                             9       No   \n",
       "2016-12-31 23:00:00       1548                            11       No   \n",
       "\n",
       "                     ﻿Date.year  ﻿Date.month  ﻿Date.day-of-month  \\\n",
       "Date                                                               \n",
       "2016-01-01 01:00:00        2016            1                   1   \n",
       "2016-01-01 02:00:00        2016            1                   1   \n",
       "2016-01-01 03:00:00        2016            1                   1   \n",
       "2016-01-01 04:00:00        2016            1                   1   \n",
       "2016-01-01 07:00:00        2016            1                   1   \n",
       "...                         ...          ...                 ...   \n",
       "2016-12-31 18:00:00        2016           12                  31   \n",
       "2016-12-31 19:00:00        2016           12                  31   \n",
       "2016-12-31 20:00:00        2016           12                  31   \n",
       "2016-12-31 21:00:00        2016           12                  31   \n",
       "2016-12-31 23:00:00        2016           12                  31   \n",
       "\n",
       "                     ﻿Date.day-of-week  ﻿Date.hour  ﻿Date.minute ﻿Date.second  \n",
       "Date                                                                           \n",
       "2016-01-01 01:00:00                  5           1             0            0  \n",
       "2016-01-01 02:00:00                  5           2             0            0  \n",
       "2016-01-01 03:00:00                  5           3             0            0  \n",
       "2016-01-01 04:00:00                  5           4             0            0  \n",
       "2016-01-01 07:00:00                  5           7             0            0  \n",
       "...                                ...         ...           ...          ...  \n",
       "2016-12-31 18:00:00                  6          18             0            0  \n",
       "2016-12-31 19:00:00                  6          19             0            0  \n",
       "2016-12-31 20:00:00                  6          20             0            0  \n",
       "2016-12-31 21:00:00                  6          21             0            0  \n",
       "2016-12-31 23:00:00                  6          23             0            0  \n",
       "\n",
       "[7027 rows x 27 columns]"
      ]
     },
     "execution_count": 7,
     "metadata": {},
     "output_type": "execute_result"
    }
   ],
   "source": [
    "ruta_completa = path + '/02_Datos/01_Originales/' + nombre_fichero_datos\n",
    "\n",
    "datos = pd.read_excel(ruta_completa, index_col = 0, header = 1)\n",
    "datos"
   ]
  },
  {
   "cell_type": "markdown",
   "id": "a4fedb2a",
   "metadata": {},
   "source": [
    "### Extraer y reservar el dataset de validación"
   ]
  },
  {
   "cell_type": "code",
   "execution_count": 8,
   "id": "05d2c9b5",
   "metadata": {},
   "outputs": [],
   "source": [
    "val= datos.sample(frac = 0.3)"
   ]
  },
  {
   "cell_type": "code",
   "execution_count": 9,
   "id": "db654eea",
   "metadata": {},
   "outputs": [],
   "source": [
    "nombre_fichero_validacion = 'validacion.csv'\n",
    "\n",
    "ruta_completa = path + '/02_Datos/02_Validacion/' + nombre_fichero_validacion\n",
    "\n",
    "val.to_csv(ruta_completa)"
   ]
  },
  {
   "cell_type": "markdown",
   "id": "f84e120e",
   "metadata": {},
   "source": [
    "### Extraer y guardar el dataset de trabajo"
   ]
  },
  {
   "cell_type": "code",
   "execution_count": 10,
   "id": "e0ce153c",
   "metadata": {},
   "outputs": [],
   "source": [
    "trabajo = datos.loc[~datos.index.isin(val.index)]"
   ]
  },
  {
   "cell_type": "code",
   "execution_count": 11,
   "id": "dbb79c5f",
   "metadata": {},
   "outputs": [],
   "source": [
    "nombre_fichero_trabajo = 'trabajo.csv'\n",
    "\n",
    "ruta_completa = path + '/02_Datos/03_Trabajo/' + nombre_fichero_trabajo\n",
    "\n",
    "trabajo.to_csv(ruta_completa)"
   ]
  },
  {
   "cell_type": "markdown",
   "id": "2ece8ca5",
   "metadata": {},
   "source": [
    "### Extraer y guardar una muestra (opcional)"
   ]
  },
  {
   "cell_type": "markdown",
   "id": "c1eb2289",
   "metadata": {},
   "source": [
    "Actualizar el tamaño de la muestra."
   ]
  },
  {
   "cell_type": "code",
   "execution_count": 12,
   "id": "6b959ab2",
   "metadata": {},
   "outputs": [],
   "source": [
    "# muestra= trabajo.sample(n = 2000)"
   ]
  },
  {
   "cell_type": "code",
   "execution_count": 13,
   "id": "26e6e0c9",
   "metadata": {},
   "outputs": [],
   "source": [
    "# nombre_fichero_muestra = 'muestra.csv'\n",
    "\n",
    "# ruta_completa = path + '/02_Datos/03_Trabajo/' + nombre_fichero_muestra\n",
    "\n",
    "# muestra.to_csv(ruta_completa)"
   ]
  }
 ],
 "metadata": {
  "kernelspec": {
   "display_name": "Python 3 (ipykernel)",
   "language": "python",
   "name": "python3"
  },
  "language_info": {
   "codemirror_mode": {
    "name": "ipython",
    "version": 3
   },
   "file_extension": ".py",
   "mimetype": "text/x-python",
   "name": "python",
   "nbconvert_exporter": "python",
   "pygments_lexer": "ipython3",
   "version": "3.9.12"
  },
  "toc": {
   "base_numbering": 1,
   "nav_menu": {},
   "number_sections": true,
   "sideBar": true,
   "skip_h1_title": false,
   "title_cell": "Table of Contents",
   "title_sidebar": "Contents",
   "toc_cell": false,
   "toc_position": {
    "height": "calc(100% - 180px)",
    "left": "10px",
    "top": "150px",
    "width": "208.9px"
   },
   "toc_section_display": true,
   "toc_window_display": true
  },
  "varInspector": {
   "cols": {
    "lenName": 16,
    "lenType": 16,
    "lenVar": 40
   },
   "kernels_config": {
    "python": {
     "delete_cmd_postfix": "",
     "delete_cmd_prefix": "del ",
     "library": "var_list.py",
     "varRefreshCmd": "print(var_dic_list())"
    },
    "r": {
     "delete_cmd_postfix": ") ",
     "delete_cmd_prefix": "rm(",
     "library": "var_list.r",
     "varRefreshCmd": "cat(var_dic_list()) "
    }
   },
   "types_to_exclude": [
    "module",
    "function",
    "builtin_function_or_method",
    "instance",
    "_Feature"
   ],
   "window_display": false
  }
 },
 "nbformat": 4,
 "nbformat_minor": 5
}
