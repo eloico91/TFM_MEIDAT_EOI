{
 "cells": [
  {
   "cell_type": "markdown",
   "id": "d31dea65",
   "metadata": {},
   "source": [
    "# PLANTILLA CALIDAD DE DATOS"
   ]
  },
  {
   "cell_type": "markdown",
   "id": "swiss-fault",
   "metadata": {},
   "source": [
    "## IMPORTAR PAQUETES"
   ]
  },
  {
   "cell_type": "code",
   "execution_count": 1,
   "id": "adjacent-toddler",
   "metadata": {},
   "outputs": [],
   "source": [
    "import numpy as np\n",
    "import pandas as pd\n",
    "from janitor import clean_names\n",
    "\n",
    "#Automcompletar rápido\n",
    "%config IPCompleter.greedy=True"
   ]
  },
  {
   "cell_type": "markdown",
   "id": "graduate-compensation",
   "metadata": {},
   "source": [
    "## IMPORTAR LOS DATOS"
   ]
  },
  {
   "cell_type": "markdown",
   "id": "38bb812b",
   "metadata": {},
   "source": [
    "Sustituir la ruta del proyecto."
   ]
  },
  {
   "cell_type": "code",
   "execution_count": 2,
   "id": "28c63848",
   "metadata": {},
   "outputs": [],
   "source": [
    "ruta_proyecto = 'C:/Users/eloic/Google Drive/EOI/TFM//01_MANT_PREDICTIVO'"
   ]
  },
  {
   "cell_type": "markdown",
   "id": "ba473b09",
   "metadata": {},
   "source": [
    "Sustituir el nombre_fichero_datos."
   ]
  },
  {
   "cell_type": "code",
   "execution_count": 3,
   "id": "5d9dc5ea",
   "metadata": {},
   "outputs": [],
   "source": [
    "nombre_fichero_datos = 'trabajo.csv'"
   ]
  },
  {
   "cell_type": "markdown",
   "id": "ae75bf0b",
   "metadata": {},
   "source": [
    "Cargar los datos."
   ]
  },
  {
   "cell_type": "code",
   "execution_count": 4,
   "id": "24ff453b",
   "metadata": {},
   "outputs": [
    {
     "data": {
      "text/html": [
       "<div>\n",
       "<style scoped>\n",
       "    .dataframe tbody tr th:only-of-type {\n",
       "        vertical-align: middle;\n",
       "    }\n",
       "\n",
       "    .dataframe tbody tr th {\n",
       "        vertical-align: top;\n",
       "    }\n",
       "\n",
       "    .dataframe thead th {\n",
       "        text-align: right;\n",
       "    }\n",
       "</style>\n",
       "<table border=\"1\" class=\"dataframe\">\n",
       "  <thead>\n",
       "    <tr style=\"text-align: right;\">\n",
       "      <th></th>\n",
       "      <th>Temperature</th>\n",
       "      <th>Humidity</th>\n",
       "      <th>Operator</th>\n",
       "      <th>Measure1</th>\n",
       "      <th>Measure2</th>\n",
       "      <th>Measure3</th>\n",
       "      <th>Measure4</th>\n",
       "      <th>Measure5</th>\n",
       "      <th>Measure6</th>\n",
       "      <th>Measure7</th>\n",
       "      <th>...</th>\n",
       "      <th>Measure15</th>\n",
       "      <th>Hours Since Previous Failure</th>\n",
       "      <th>Failure</th>\n",
       "      <th>﻿Date.year</th>\n",
       "      <th>﻿Date.month</th>\n",
       "      <th>﻿Date.day-of-month</th>\n",
       "      <th>﻿Date.day-of-week</th>\n",
       "      <th>﻿Date.hour</th>\n",
       "      <th>﻿Date.minute</th>\n",
       "      <th>﻿Date.second</th>\n",
       "    </tr>\n",
       "    <tr>\n",
       "      <th>Date</th>\n",
       "      <th></th>\n",
       "      <th></th>\n",
       "      <th></th>\n",
       "      <th></th>\n",
       "      <th></th>\n",
       "      <th></th>\n",
       "      <th></th>\n",
       "      <th></th>\n",
       "      <th></th>\n",
       "      <th></th>\n",
       "      <th></th>\n",
       "      <th></th>\n",
       "      <th></th>\n",
       "      <th></th>\n",
       "      <th></th>\n",
       "      <th></th>\n",
       "      <th></th>\n",
       "      <th></th>\n",
       "      <th></th>\n",
       "      <th></th>\n",
       "      <th></th>\n",
       "    </tr>\n",
       "  </thead>\n",
       "  <tbody>\n",
       "    <tr>\n",
       "      <th>2016-01-01 02:00:00</th>\n",
       "      <td>64</td>\n",
       "      <td>76</td>\n",
       "      <td>Operator1</td>\n",
       "      <td>1406</td>\n",
       "      <td>1</td>\n",
       "      <td>1</td>\n",
       "      <td>511</td>\n",
       "      <td>1577</td>\n",
       "      <td>1121</td>\n",
       "      <td>1948</td>\n",
       "      <td>...</td>\n",
       "      <td>1689</td>\n",
       "      <td>92</td>\n",
       "      <td>No</td>\n",
       "      <td>2016</td>\n",
       "      <td>1</td>\n",
       "      <td>1</td>\n",
       "      <td>5</td>\n",
       "      <td>2</td>\n",
       "      <td>0</td>\n",
       "      <td>0</td>\n",
       "    </tr>\n",
       "    <tr>\n",
       "      <th>2016-01-01 07:00:00</th>\n",
       "      <td>67</td>\n",
       "      <td>76</td>\n",
       "      <td>Operator1</td>\n",
       "      <td>1021</td>\n",
       "      <td>2</td>\n",
       "      <td>1</td>\n",
       "      <td>185</td>\n",
       "      <td>170</td>\n",
       "      <td>952</td>\n",
       "      <td>1183</td>\n",
       "      <td>...</td>\n",
       "      <td>844</td>\n",
       "      <td>97</td>\n",
       "      <td>Yes</td>\n",
       "      <td>2016</td>\n",
       "      <td>1</td>\n",
       "      <td>1</td>\n",
       "      <td>5</td>\n",
       "      <td>7</td>\n",
       "      <td>0</td>\n",
       "      <td>0</td>\n",
       "    </tr>\n",
       "    <tr>\n",
       "      <th>2016-01-01 09:00:00</th>\n",
       "      <td>63</td>\n",
       "      <td>80</td>\n",
       "      <td>Operator3</td>\n",
       "      <td>415</td>\n",
       "      <td>0</td>\n",
       "      <td>0</td>\n",
       "      <td>1008</td>\n",
       "      <td>1086</td>\n",
       "      <td>1759</td>\n",
       "      <td>1946</td>\n",
       "      <td>...</td>\n",
       "      <td>491</td>\n",
       "      <td>99</td>\n",
       "      <td>No</td>\n",
       "      <td>2016</td>\n",
       "      <td>1</td>\n",
       "      <td>1</td>\n",
       "      <td>5</td>\n",
       "      <td>9</td>\n",
       "      <td>0</td>\n",
       "      <td>0</td>\n",
       "    </tr>\n",
       "    <tr>\n",
       "      <th>2016-01-01 10:00:00</th>\n",
       "      <td>61</td>\n",
       "      <td>83</td>\n",
       "      <td>Operator3</td>\n",
       "      <td>525</td>\n",
       "      <td>2</td>\n",
       "      <td>2</td>\n",
       "      <td>603</td>\n",
       "      <td>1630</td>\n",
       "      <td>1740</td>\n",
       "      <td>583</td>\n",
       "      <td>...</td>\n",
       "      <td>1102</td>\n",
       "      <td>100</td>\n",
       "      <td>No</td>\n",
       "      <td>2016</td>\n",
       "      <td>1</td>\n",
       "      <td>1</td>\n",
       "      <td>5</td>\n",
       "      <td>10</td>\n",
       "      <td>0</td>\n",
       "      <td>0</td>\n",
       "    </tr>\n",
       "    <tr>\n",
       "      <th>2016-01-01 11:00:00</th>\n",
       "      <td>62</td>\n",
       "      <td>81</td>\n",
       "      <td>Operator3</td>\n",
       "      <td>1719</td>\n",
       "      <td>3</td>\n",
       "      <td>1</td>\n",
       "      <td>880</td>\n",
       "      <td>575</td>\n",
       "      <td>1722</td>\n",
       "      <td>952</td>\n",
       "      <td>...</td>\n",
       "      <td>1759</td>\n",
       "      <td>101</td>\n",
       "      <td>No</td>\n",
       "      <td>2016</td>\n",
       "      <td>1</td>\n",
       "      <td>1</td>\n",
       "      <td>5</td>\n",
       "      <td>11</td>\n",
       "      <td>0</td>\n",
       "      <td>0</td>\n",
       "    </tr>\n",
       "    <tr>\n",
       "      <th>...</th>\n",
       "      <td>...</td>\n",
       "      <td>...</td>\n",
       "      <td>...</td>\n",
       "      <td>...</td>\n",
       "      <td>...</td>\n",
       "      <td>...</td>\n",
       "      <td>...</td>\n",
       "      <td>...</td>\n",
       "      <td>...</td>\n",
       "      <td>...</td>\n",
       "      <td>...</td>\n",
       "      <td>...</td>\n",
       "      <td>...</td>\n",
       "      <td>...</td>\n",
       "      <td>...</td>\n",
       "      <td>...</td>\n",
       "      <td>...</td>\n",
       "      <td>...</td>\n",
       "      <td>...</td>\n",
       "      <td>...</td>\n",
       "      <td>...</td>\n",
       "    </tr>\n",
       "    <tr>\n",
       "      <th>2016-12-31 18:00:00</th>\n",
       "      <td>61</td>\n",
       "      <td>82</td>\n",
       "      <td>Operator8</td>\n",
       "      <td>1613</td>\n",
       "      <td>2</td>\n",
       "      <td>0</td>\n",
       "      <td>918</td>\n",
       "      <td>1710</td>\n",
       "      <td>440</td>\n",
       "      <td>1783</td>\n",
       "      <td>...</td>\n",
       "      <td>1575</td>\n",
       "      <td>6</td>\n",
       "      <td>No</td>\n",
       "      <td>2016</td>\n",
       "      <td>12</td>\n",
       "      <td>31</td>\n",
       "      <td>6</td>\n",
       "      <td>18</td>\n",
       "      <td>0</td>\n",
       "      <td>0</td>\n",
       "    </tr>\n",
       "    <tr>\n",
       "      <th>2016-12-31 19:00:00</th>\n",
       "      <td>66</td>\n",
       "      <td>79</td>\n",
       "      <td>Operator8</td>\n",
       "      <td>937</td>\n",
       "      <td>0</td>\n",
       "      <td>2</td>\n",
       "      <td>1875</td>\n",
       "      <td>1719</td>\n",
       "      <td>219</td>\n",
       "      <td>748</td>\n",
       "      <td>...</td>\n",
       "      <td>410</td>\n",
       "      <td>7</td>\n",
       "      <td>No</td>\n",
       "      <td>2016</td>\n",
       "      <td>12</td>\n",
       "      <td>31</td>\n",
       "      <td>6</td>\n",
       "      <td>19</td>\n",
       "      <td>0</td>\n",
       "      <td>0</td>\n",
       "    </tr>\n",
       "    <tr>\n",
       "      <th>2016-12-31 20:00:00</th>\n",
       "      <td>60</td>\n",
       "      <td>77</td>\n",
       "      <td>Operator8</td>\n",
       "      <td>379</td>\n",
       "      <td>3</td>\n",
       "      <td>0</td>\n",
       "      <td>814</td>\n",
       "      <td>1990</td>\n",
       "      <td>1606</td>\n",
       "      <td>1346</td>\n",
       "      <td>...</td>\n",
       "      <td>943</td>\n",
       "      <td>8</td>\n",
       "      <td>No</td>\n",
       "      <td>2016</td>\n",
       "      <td>12</td>\n",
       "      <td>31</td>\n",
       "      <td>6</td>\n",
       "      <td>20</td>\n",
       "      <td>0</td>\n",
       "      <td>0</td>\n",
       "    </tr>\n",
       "    <tr>\n",
       "      <th>2016-12-31 21:00:00</th>\n",
       "      <td>61</td>\n",
       "      <td>77</td>\n",
       "      <td>Operator8</td>\n",
       "      <td>595</td>\n",
       "      <td>3</td>\n",
       "      <td>1</td>\n",
       "      <td>1659</td>\n",
       "      <td>1134</td>\n",
       "      <td>1314</td>\n",
       "      <td>907</td>\n",
       "      <td>...</td>\n",
       "      <td>200</td>\n",
       "      <td>9</td>\n",
       "      <td>No</td>\n",
       "      <td>2016</td>\n",
       "      <td>12</td>\n",
       "      <td>31</td>\n",
       "      <td>6</td>\n",
       "      <td>21</td>\n",
       "      <td>0</td>\n",
       "      <td>0</td>\n",
       "    </tr>\n",
       "    <tr>\n",
       "      <th>2016-12-31 23:00:00</th>\n",
       "      <td>60</td>\n",
       "      <td>82</td>\n",
       "      <td>Operator8</td>\n",
       "      <td>399</td>\n",
       "      <td>0</td>\n",
       "      <td>1</td>\n",
       "      <td>324</td>\n",
       "      <td>1424</td>\n",
       "      <td>809</td>\n",
       "      <td>919</td>\n",
       "      <td>...</td>\n",
       "      <td>1548</td>\n",
       "      <td>11</td>\n",
       "      <td>No</td>\n",
       "      <td>2016</td>\n",
       "      <td>12</td>\n",
       "      <td>31</td>\n",
       "      <td>6</td>\n",
       "      <td>23</td>\n",
       "      <td>0</td>\n",
       "      <td>0</td>\n",
       "    </tr>\n",
       "  </tbody>\n",
       "</table>\n",
       "<p>4919 rows × 27 columns</p>\n",
       "</div>"
      ],
      "text/plain": [
       "                     Temperature  Humidity   Operator  Measure1  Measure2  \\\n",
       "Date                                                                        \n",
       "2016-01-01 02:00:00           64        76  Operator1      1406         1   \n",
       "2016-01-01 07:00:00           67        76  Operator1      1021         2   \n",
       "2016-01-01 09:00:00           63        80  Operator3       415         0   \n",
       "2016-01-01 10:00:00           61        83  Operator3       525         2   \n",
       "2016-01-01 11:00:00           62        81  Operator3      1719         3   \n",
       "...                          ...       ...        ...       ...       ...   \n",
       "2016-12-31 18:00:00           61        82  Operator8      1613         2   \n",
       "2016-12-31 19:00:00           66        79  Operator8       937         0   \n",
       "2016-12-31 20:00:00           60        77  Operator8       379         3   \n",
       "2016-12-31 21:00:00           61        77  Operator8       595         3   \n",
       "2016-12-31 23:00:00           60        82  Operator8       399         0   \n",
       "\n",
       "                     Measure3  Measure4  Measure5  Measure6  Measure7  ...  \\\n",
       "Date                                                                   ...   \n",
       "2016-01-01 02:00:00         1       511      1577      1121      1948  ...   \n",
       "2016-01-01 07:00:00         1       185       170       952      1183  ...   \n",
       "2016-01-01 09:00:00         0      1008      1086      1759      1946  ...   \n",
       "2016-01-01 10:00:00         2       603      1630      1740       583  ...   \n",
       "2016-01-01 11:00:00         1       880       575      1722       952  ...   \n",
       "...                       ...       ...       ...       ...       ...  ...   \n",
       "2016-12-31 18:00:00         0       918      1710       440      1783  ...   \n",
       "2016-12-31 19:00:00         2      1875      1719       219       748  ...   \n",
       "2016-12-31 20:00:00         0       814      1990      1606      1346  ...   \n",
       "2016-12-31 21:00:00         1      1659      1134      1314       907  ...   \n",
       "2016-12-31 23:00:00         1       324      1424       809       919  ...   \n",
       "\n",
       "                     Measure15  Hours Since Previous Failure  Failure  \\\n",
       "Date                                                                    \n",
       "2016-01-01 02:00:00       1689                            92       No   \n",
       "2016-01-01 07:00:00        844                            97      Yes   \n",
       "2016-01-01 09:00:00        491                            99       No   \n",
       "2016-01-01 10:00:00       1102                           100       No   \n",
       "2016-01-01 11:00:00       1759                           101       No   \n",
       "...                        ...                           ...      ...   \n",
       "2016-12-31 18:00:00       1575                             6       No   \n",
       "2016-12-31 19:00:00        410                             7       No   \n",
       "2016-12-31 20:00:00        943                             8       No   \n",
       "2016-12-31 21:00:00        200                             9       No   \n",
       "2016-12-31 23:00:00       1548                            11       No   \n",
       "\n",
       "                     ﻿Date.year  ﻿Date.month  ﻿Date.day-of-month  \\\n",
       "Date                                                               \n",
       "2016-01-01 02:00:00        2016            1                   1   \n",
       "2016-01-01 07:00:00        2016            1                   1   \n",
       "2016-01-01 09:00:00        2016            1                   1   \n",
       "2016-01-01 10:00:00        2016            1                   1   \n",
       "2016-01-01 11:00:00        2016            1                   1   \n",
       "...                         ...          ...                 ...   \n",
       "2016-12-31 18:00:00        2016           12                  31   \n",
       "2016-12-31 19:00:00        2016           12                  31   \n",
       "2016-12-31 20:00:00        2016           12                  31   \n",
       "2016-12-31 21:00:00        2016           12                  31   \n",
       "2016-12-31 23:00:00        2016           12                  31   \n",
       "\n",
       "                     ﻿Date.day-of-week  ﻿Date.hour  ﻿Date.minute ﻿Date.second  \n",
       "Date                                                                           \n",
       "2016-01-01 02:00:00                  5           2             0            0  \n",
       "2016-01-01 07:00:00                  5           7             0            0  \n",
       "2016-01-01 09:00:00                  5           9             0            0  \n",
       "2016-01-01 10:00:00                  5          10             0            0  \n",
       "2016-01-01 11:00:00                  5          11             0            0  \n",
       "...                                ...         ...           ...          ...  \n",
       "2016-12-31 18:00:00                  6          18             0            0  \n",
       "2016-12-31 19:00:00                  6          19             0            0  \n",
       "2016-12-31 20:00:00                  6          20             0            0  \n",
       "2016-12-31 21:00:00                  6          21             0            0  \n",
       "2016-12-31 23:00:00                  6          23             0            0  \n",
       "\n",
       "[4919 rows x 27 columns]"
      ]
     },
     "execution_count": 4,
     "metadata": {},
     "output_type": "execute_result"
    }
   ],
   "source": [
    "ruta_completa = ruta_proyecto + '/02_Datos/03_Trabajo/' + nombre_fichero_datos\n",
    "\n",
    "df = pd.read_csv(ruta_completa,index_col=0)\n",
    "df"
   ]
  },
  {
   "cell_type": "markdown",
   "id": "9790d322",
   "metadata": {},
   "source": [
    "## CORRECCIÓN DE NOMBRES DE VARIABLES"
   ]
  },
  {
   "cell_type": "markdown",
   "id": "f1fa5201",
   "metadata": {},
   "source": [
    "### Corrección automática"
   ]
  },
  {
   "cell_type": "code",
   "execution_count": 5,
   "id": "02607b69",
   "metadata": {},
   "outputs": [],
   "source": [
    "# df = clean_names(df)\n",
    "# df"
   ]
  },
  {
   "cell_type": "markdown",
   "id": "25bf4c99",
   "metadata": {},
   "source": [
    "### Corrección manual"
   ]
  },
  {
   "cell_type": "code",
   "execution_count": 6,
   "id": "6002c4bc",
   "metadata": {},
   "outputs": [
    {
     "data": {
      "text/plain": [
       "Index(['Temperature', 'Humidity', 'Operator', 'Measure1', 'Measure2',\n",
       "       'Measure3', 'Measure4', 'Measure5', 'Measure6', 'Measure7', 'Measure8',\n",
       "       'Measure9', 'Measure10', 'Measure11', 'Measure12', 'Measure13',\n",
       "       'Measure14', 'Measure15', 'Hours Since Previous Failure', 'Failure',\n",
       "       '﻿Date.year', '﻿Date.month', '﻿Date.day-of-month', '﻿Date.day-of-week',\n",
       "       '﻿Date.hour', '﻿Date.minute', '﻿Date.second'],\n",
       "      dtype='object')"
      ]
     },
     "execution_count": 6,
     "metadata": {},
     "output_type": "execute_result"
    }
   ],
   "source": [
    "df.columns"
   ]
  },
  {
   "cell_type": "code",
   "execution_count": 7,
   "id": "c6d83e70",
   "metadata": {},
   "outputs": [
    {
     "data": {
      "text/html": [
       "<div>\n",
       "<style scoped>\n",
       "    .dataframe tbody tr th:only-of-type {\n",
       "        vertical-align: middle;\n",
       "    }\n",
       "\n",
       "    .dataframe tbody tr th {\n",
       "        vertical-align: top;\n",
       "    }\n",
       "\n",
       "    .dataframe thead th {\n",
       "        text-align: right;\n",
       "    }\n",
       "</style>\n",
       "<table border=\"1\" class=\"dataframe\">\n",
       "  <thead>\n",
       "    <tr style=\"text-align: right;\">\n",
       "      <th></th>\n",
       "      <th>temperatura</th>\n",
       "      <th>humedad</th>\n",
       "      <th>operador</th>\n",
       "      <th>medida_1</th>\n",
       "      <th>medida_2</th>\n",
       "      <th>medida_3</th>\n",
       "      <th>medida_4</th>\n",
       "      <th>medida_5</th>\n",
       "      <th>medida_6</th>\n",
       "      <th>medida_7</th>\n",
       "      <th>...</th>\n",
       "      <th>medida_15</th>\n",
       "      <th>horas_desde_utlimo_fallo</th>\n",
       "      <th>fallo</th>\n",
       "      <th>año</th>\n",
       "      <th>mes</th>\n",
       "      <th>dia_mes</th>\n",
       "      <th>dia_semana</th>\n",
       "      <th>hora</th>\n",
       "      <th>minuto</th>\n",
       "      <th>segundo</th>\n",
       "    </tr>\n",
       "    <tr>\n",
       "      <th>Date</th>\n",
       "      <th></th>\n",
       "      <th></th>\n",
       "      <th></th>\n",
       "      <th></th>\n",
       "      <th></th>\n",
       "      <th></th>\n",
       "      <th></th>\n",
       "      <th></th>\n",
       "      <th></th>\n",
       "      <th></th>\n",
       "      <th></th>\n",
       "      <th></th>\n",
       "      <th></th>\n",
       "      <th></th>\n",
       "      <th></th>\n",
       "      <th></th>\n",
       "      <th></th>\n",
       "      <th></th>\n",
       "      <th></th>\n",
       "      <th></th>\n",
       "      <th></th>\n",
       "    </tr>\n",
       "  </thead>\n",
       "  <tbody>\n",
       "    <tr>\n",
       "      <th>2016-01-01 02:00:00</th>\n",
       "      <td>64</td>\n",
       "      <td>76</td>\n",
       "      <td>Operator1</td>\n",
       "      <td>1406</td>\n",
       "      <td>1</td>\n",
       "      <td>1</td>\n",
       "      <td>511</td>\n",
       "      <td>1577</td>\n",
       "      <td>1121</td>\n",
       "      <td>1948</td>\n",
       "      <td>...</td>\n",
       "      <td>1689</td>\n",
       "      <td>92</td>\n",
       "      <td>No</td>\n",
       "      <td>2016</td>\n",
       "      <td>1</td>\n",
       "      <td>1</td>\n",
       "      <td>5</td>\n",
       "      <td>2</td>\n",
       "      <td>0</td>\n",
       "      <td>0</td>\n",
       "    </tr>\n",
       "    <tr>\n",
       "      <th>2016-01-01 07:00:00</th>\n",
       "      <td>67</td>\n",
       "      <td>76</td>\n",
       "      <td>Operator1</td>\n",
       "      <td>1021</td>\n",
       "      <td>2</td>\n",
       "      <td>1</td>\n",
       "      <td>185</td>\n",
       "      <td>170</td>\n",
       "      <td>952</td>\n",
       "      <td>1183</td>\n",
       "      <td>...</td>\n",
       "      <td>844</td>\n",
       "      <td>97</td>\n",
       "      <td>Yes</td>\n",
       "      <td>2016</td>\n",
       "      <td>1</td>\n",
       "      <td>1</td>\n",
       "      <td>5</td>\n",
       "      <td>7</td>\n",
       "      <td>0</td>\n",
       "      <td>0</td>\n",
       "    </tr>\n",
       "    <tr>\n",
       "      <th>2016-01-01 09:00:00</th>\n",
       "      <td>63</td>\n",
       "      <td>80</td>\n",
       "      <td>Operator3</td>\n",
       "      <td>415</td>\n",
       "      <td>0</td>\n",
       "      <td>0</td>\n",
       "      <td>1008</td>\n",
       "      <td>1086</td>\n",
       "      <td>1759</td>\n",
       "      <td>1946</td>\n",
       "      <td>...</td>\n",
       "      <td>491</td>\n",
       "      <td>99</td>\n",
       "      <td>No</td>\n",
       "      <td>2016</td>\n",
       "      <td>1</td>\n",
       "      <td>1</td>\n",
       "      <td>5</td>\n",
       "      <td>9</td>\n",
       "      <td>0</td>\n",
       "      <td>0</td>\n",
       "    </tr>\n",
       "    <tr>\n",
       "      <th>2016-01-01 10:00:00</th>\n",
       "      <td>61</td>\n",
       "      <td>83</td>\n",
       "      <td>Operator3</td>\n",
       "      <td>525</td>\n",
       "      <td>2</td>\n",
       "      <td>2</td>\n",
       "      <td>603</td>\n",
       "      <td>1630</td>\n",
       "      <td>1740</td>\n",
       "      <td>583</td>\n",
       "      <td>...</td>\n",
       "      <td>1102</td>\n",
       "      <td>100</td>\n",
       "      <td>No</td>\n",
       "      <td>2016</td>\n",
       "      <td>1</td>\n",
       "      <td>1</td>\n",
       "      <td>5</td>\n",
       "      <td>10</td>\n",
       "      <td>0</td>\n",
       "      <td>0</td>\n",
       "    </tr>\n",
       "    <tr>\n",
       "      <th>2016-01-01 11:00:00</th>\n",
       "      <td>62</td>\n",
       "      <td>81</td>\n",
       "      <td>Operator3</td>\n",
       "      <td>1719</td>\n",
       "      <td>3</td>\n",
       "      <td>1</td>\n",
       "      <td>880</td>\n",
       "      <td>575</td>\n",
       "      <td>1722</td>\n",
       "      <td>952</td>\n",
       "      <td>...</td>\n",
       "      <td>1759</td>\n",
       "      <td>101</td>\n",
       "      <td>No</td>\n",
       "      <td>2016</td>\n",
       "      <td>1</td>\n",
       "      <td>1</td>\n",
       "      <td>5</td>\n",
       "      <td>11</td>\n",
       "      <td>0</td>\n",
       "      <td>0</td>\n",
       "    </tr>\n",
       "    <tr>\n",
       "      <th>...</th>\n",
       "      <td>...</td>\n",
       "      <td>...</td>\n",
       "      <td>...</td>\n",
       "      <td>...</td>\n",
       "      <td>...</td>\n",
       "      <td>...</td>\n",
       "      <td>...</td>\n",
       "      <td>...</td>\n",
       "      <td>...</td>\n",
       "      <td>...</td>\n",
       "      <td>...</td>\n",
       "      <td>...</td>\n",
       "      <td>...</td>\n",
       "      <td>...</td>\n",
       "      <td>...</td>\n",
       "      <td>...</td>\n",
       "      <td>...</td>\n",
       "      <td>...</td>\n",
       "      <td>...</td>\n",
       "      <td>...</td>\n",
       "      <td>...</td>\n",
       "    </tr>\n",
       "    <tr>\n",
       "      <th>2016-12-31 18:00:00</th>\n",
       "      <td>61</td>\n",
       "      <td>82</td>\n",
       "      <td>Operator8</td>\n",
       "      <td>1613</td>\n",
       "      <td>2</td>\n",
       "      <td>0</td>\n",
       "      <td>918</td>\n",
       "      <td>1710</td>\n",
       "      <td>440</td>\n",
       "      <td>1783</td>\n",
       "      <td>...</td>\n",
       "      <td>1575</td>\n",
       "      <td>6</td>\n",
       "      <td>No</td>\n",
       "      <td>2016</td>\n",
       "      <td>12</td>\n",
       "      <td>31</td>\n",
       "      <td>6</td>\n",
       "      <td>18</td>\n",
       "      <td>0</td>\n",
       "      <td>0</td>\n",
       "    </tr>\n",
       "    <tr>\n",
       "      <th>2016-12-31 19:00:00</th>\n",
       "      <td>66</td>\n",
       "      <td>79</td>\n",
       "      <td>Operator8</td>\n",
       "      <td>937</td>\n",
       "      <td>0</td>\n",
       "      <td>2</td>\n",
       "      <td>1875</td>\n",
       "      <td>1719</td>\n",
       "      <td>219</td>\n",
       "      <td>748</td>\n",
       "      <td>...</td>\n",
       "      <td>410</td>\n",
       "      <td>7</td>\n",
       "      <td>No</td>\n",
       "      <td>2016</td>\n",
       "      <td>12</td>\n",
       "      <td>31</td>\n",
       "      <td>6</td>\n",
       "      <td>19</td>\n",
       "      <td>0</td>\n",
       "      <td>0</td>\n",
       "    </tr>\n",
       "    <tr>\n",
       "      <th>2016-12-31 20:00:00</th>\n",
       "      <td>60</td>\n",
       "      <td>77</td>\n",
       "      <td>Operator8</td>\n",
       "      <td>379</td>\n",
       "      <td>3</td>\n",
       "      <td>0</td>\n",
       "      <td>814</td>\n",
       "      <td>1990</td>\n",
       "      <td>1606</td>\n",
       "      <td>1346</td>\n",
       "      <td>...</td>\n",
       "      <td>943</td>\n",
       "      <td>8</td>\n",
       "      <td>No</td>\n",
       "      <td>2016</td>\n",
       "      <td>12</td>\n",
       "      <td>31</td>\n",
       "      <td>6</td>\n",
       "      <td>20</td>\n",
       "      <td>0</td>\n",
       "      <td>0</td>\n",
       "    </tr>\n",
       "    <tr>\n",
       "      <th>2016-12-31 21:00:00</th>\n",
       "      <td>61</td>\n",
       "      <td>77</td>\n",
       "      <td>Operator8</td>\n",
       "      <td>595</td>\n",
       "      <td>3</td>\n",
       "      <td>1</td>\n",
       "      <td>1659</td>\n",
       "      <td>1134</td>\n",
       "      <td>1314</td>\n",
       "      <td>907</td>\n",
       "      <td>...</td>\n",
       "      <td>200</td>\n",
       "      <td>9</td>\n",
       "      <td>No</td>\n",
       "      <td>2016</td>\n",
       "      <td>12</td>\n",
       "      <td>31</td>\n",
       "      <td>6</td>\n",
       "      <td>21</td>\n",
       "      <td>0</td>\n",
       "      <td>0</td>\n",
       "    </tr>\n",
       "    <tr>\n",
       "      <th>2016-12-31 23:00:00</th>\n",
       "      <td>60</td>\n",
       "      <td>82</td>\n",
       "      <td>Operator8</td>\n",
       "      <td>399</td>\n",
       "      <td>0</td>\n",
       "      <td>1</td>\n",
       "      <td>324</td>\n",
       "      <td>1424</td>\n",
       "      <td>809</td>\n",
       "      <td>919</td>\n",
       "      <td>...</td>\n",
       "      <td>1548</td>\n",
       "      <td>11</td>\n",
       "      <td>No</td>\n",
       "      <td>2016</td>\n",
       "      <td>12</td>\n",
       "      <td>31</td>\n",
       "      <td>6</td>\n",
       "      <td>23</td>\n",
       "      <td>0</td>\n",
       "      <td>0</td>\n",
       "    </tr>\n",
       "  </tbody>\n",
       "</table>\n",
       "<p>4919 rows × 27 columns</p>\n",
       "</div>"
      ],
      "text/plain": [
       "                     temperatura  humedad   operador  medida_1  medida_2  \\\n",
       "Date                                                                       \n",
       "2016-01-01 02:00:00           64       76  Operator1      1406         1   \n",
       "2016-01-01 07:00:00           67       76  Operator1      1021         2   \n",
       "2016-01-01 09:00:00           63       80  Operator3       415         0   \n",
       "2016-01-01 10:00:00           61       83  Operator3       525         2   \n",
       "2016-01-01 11:00:00           62       81  Operator3      1719         3   \n",
       "...                          ...      ...        ...       ...       ...   \n",
       "2016-12-31 18:00:00           61       82  Operator8      1613         2   \n",
       "2016-12-31 19:00:00           66       79  Operator8       937         0   \n",
       "2016-12-31 20:00:00           60       77  Operator8       379         3   \n",
       "2016-12-31 21:00:00           61       77  Operator8       595         3   \n",
       "2016-12-31 23:00:00           60       82  Operator8       399         0   \n",
       "\n",
       "                     medida_3  medida_4  medida_5  medida_6  medida_7  ...  \\\n",
       "Date                                                                   ...   \n",
       "2016-01-01 02:00:00         1       511      1577      1121      1948  ...   \n",
       "2016-01-01 07:00:00         1       185       170       952      1183  ...   \n",
       "2016-01-01 09:00:00         0      1008      1086      1759      1946  ...   \n",
       "2016-01-01 10:00:00         2       603      1630      1740       583  ...   \n",
       "2016-01-01 11:00:00         1       880       575      1722       952  ...   \n",
       "...                       ...       ...       ...       ...       ...  ...   \n",
       "2016-12-31 18:00:00         0       918      1710       440      1783  ...   \n",
       "2016-12-31 19:00:00         2      1875      1719       219       748  ...   \n",
       "2016-12-31 20:00:00         0       814      1990      1606      1346  ...   \n",
       "2016-12-31 21:00:00         1      1659      1134      1314       907  ...   \n",
       "2016-12-31 23:00:00         1       324      1424       809       919  ...   \n",
       "\n",
       "                     medida_15  horas_desde_utlimo_fallo  fallo   año  mes  \\\n",
       "Date                                                                         \n",
       "2016-01-01 02:00:00       1689                        92     No  2016    1   \n",
       "2016-01-01 07:00:00        844                        97    Yes  2016    1   \n",
       "2016-01-01 09:00:00        491                        99     No  2016    1   \n",
       "2016-01-01 10:00:00       1102                       100     No  2016    1   \n",
       "2016-01-01 11:00:00       1759                       101     No  2016    1   \n",
       "...                        ...                       ...    ...   ...  ...   \n",
       "2016-12-31 18:00:00       1575                         6     No  2016   12   \n",
       "2016-12-31 19:00:00        410                         7     No  2016   12   \n",
       "2016-12-31 20:00:00        943                         8     No  2016   12   \n",
       "2016-12-31 21:00:00        200                         9     No  2016   12   \n",
       "2016-12-31 23:00:00       1548                        11     No  2016   12   \n",
       "\n",
       "                     dia_mes  dia_semana  hora  minuto segundo  \n",
       "Date                                                            \n",
       "2016-01-01 02:00:00        1           5     2       0       0  \n",
       "2016-01-01 07:00:00        1           5     7       0       0  \n",
       "2016-01-01 09:00:00        1           5     9       0       0  \n",
       "2016-01-01 10:00:00        1           5    10       0       0  \n",
       "2016-01-01 11:00:00        1           5    11       0       0  \n",
       "...                      ...         ...   ...     ...     ...  \n",
       "2016-12-31 18:00:00       31           6    18       0       0  \n",
       "2016-12-31 19:00:00       31           6    19       0       0  \n",
       "2016-12-31 20:00:00       31           6    20       0       0  \n",
       "2016-12-31 21:00:00       31           6    21       0       0  \n",
       "2016-12-31 23:00:00       31           6    23       0       0  \n",
       "\n",
       "[4919 rows x 27 columns]"
      ]
     },
     "execution_count": 7,
     "metadata": {},
     "output_type": "execute_result"
    }
   ],
   "source": [
    "df.rename(columns = {'Temperature':'temperatura',\n",
    "                     'Humidity':'humedad',\n",
    "                     'Operator':'operador',\n",
    "                     'Measure1':'medida_1',\n",
    "                     'Measure2':'medida_2',\n",
    "                     'Measure3':'medida_3',\n",
    "                     'Measure4':'medida_4',\n",
    "                     'Measure5':'medida_5',\n",
    "                     'Measure6':'medida_6',\n",
    "                     'Measure7':'medida_7',\n",
    "                     'Measure8':'medida_8',\n",
    "                     'Measure9':'medida_9',\n",
    "                     'Measure10':'medida_10',\n",
    "                     'Measure11':'medida_11',\n",
    "                     'Measure12':'medida_12',\n",
    "                     'Measure13':'medida_13',\n",
    "                     'Measure14':'medida_14',\n",
    "                     'Measure15':'medida_15',\n",
    "                     'Hours Since Previous Failure':'horas_desde_utlimo_fallo',\n",
    "                     'Failure':'fallo',\n",
    "                     '﻿Date.year':'año',\n",
    "                     '﻿Date.month':'mes',\n",
    "                     '﻿Date.day-of-month':'dia_mes',\n",
    "                     '﻿Date.day-of-week':'dia_semana',\n",
    "                     '﻿Date.hour':'hora',\n",
    "                     '﻿Date.minute':'minuto',\n",
    "                     '﻿Date.second':'segundo'}, inplace=True)\n",
    "df"
   ]
  },
  {
   "cell_type": "code",
   "execution_count": 30,
   "id": "c5634b23",
   "metadata": {},
   "outputs": [
    {
     "data": {
      "text/plain": [
       "Index(['temperatura', 'humedad', 'operador', 'medida_1', 'medida_2',\n",
       "       'medida_3', 'medida_4', 'medida_5', 'medida_6', 'medida_7', 'medida_8',\n",
       "       'medida_9', 'medida_10', 'medida_11', 'medida_12', 'medida_13',\n",
       "       'medida_14', 'medida_15', 'horas_desde_utlimo_fallo', 'fallo', 'mes',\n",
       "       'dia_mes', 'dia_semana', 'hora'],\n",
       "      dtype='object')"
      ]
     },
     "execution_count": 30,
     "metadata": {},
     "output_type": "execute_result"
    }
   ],
   "source": [
    "df.columns"
   ]
  },
  {
   "cell_type": "markdown",
   "id": "d2d5443c",
   "metadata": {},
   "source": [
    "## VISIÓN GENERAL"
   ]
  },
  {
   "cell_type": "code",
   "execution_count": 8,
   "id": "976c8ac6",
   "metadata": {},
   "outputs": [
    {
     "name": "stdout",
     "output_type": "stream",
     "text": [
      "<class 'pandas.core.frame.DataFrame'>\n",
      "Index: 4919 entries, 2016-01-01 02:00:00 to 2016-12-31 23:00:00\n",
      "Data columns (total 27 columns):\n",
      " #   Column                    Non-Null Count  Dtype \n",
      "---  ------                    --------------  ----- \n",
      " 0   temperatura               4919 non-null   int64 \n",
      " 1   humedad                   4919 non-null   int64 \n",
      " 2   operador                  4919 non-null   object\n",
      " 3   medida_1                  4919 non-null   int64 \n",
      " 4   medida_2                  4919 non-null   int64 \n",
      " 5   medida_3                  4919 non-null   int64 \n",
      " 6   medida_4                  4919 non-null   int64 \n",
      " 7   medida_5                  4919 non-null   int64 \n",
      " 8   medida_6                  4919 non-null   int64 \n",
      " 9   medida_7                  4919 non-null   int64 \n",
      " 10  medida_8                  4919 non-null   int64 \n",
      " 11  medida_9                  4919 non-null   int64 \n",
      " 12  medida_10                 4919 non-null   int64 \n",
      " 13  medida_11                 4919 non-null   int64 \n",
      " 14  medida_12                 4919 non-null   int64 \n",
      " 15  medida_13                 4919 non-null   int64 \n",
      " 16  medida_14                 4919 non-null   int64 \n",
      " 17  medida_15                 4919 non-null   int64 \n",
      " 18  horas_desde_utlimo_fallo  4919 non-null   int64 \n",
      " 19  fallo                     4919 non-null   object\n",
      " 20  año                       4919 non-null   int64 \n",
      " 21  mes                       4919 non-null   int64 \n",
      " 22  dia_mes                   4919 non-null   int64 \n",
      " 23  dia_semana                4919 non-null   int64 \n",
      " 24  hora                      4919 non-null   int64 \n",
      " 25  minuto                    4919 non-null   int64 \n",
      " 26  segundo                   4919 non-null   int64 \n",
      "dtypes: int64(25), object(2)\n",
      "memory usage: 1.1+ MB\n"
     ]
    }
   ],
   "source": [
    "df.info()"
   ]
  },
  {
   "cell_type": "markdown",
   "id": "158ee1d7",
   "metadata": {},
   "source": [
    "## TIPOS DE DATOS"
   ]
  },
  {
   "cell_type": "markdown",
   "id": "88162727",
   "metadata": {},
   "source": [
    "### Identificación"
   ]
  },
  {
   "cell_type": "code",
   "execution_count": 9,
   "id": "197a99c2",
   "metadata": {},
   "outputs": [
    {
     "data": {
      "text/plain": [
       "temperatura                  int64\n",
       "humedad                      int64\n",
       "operador                    object\n",
       "medida_1                     int64\n",
       "medida_2                     int64\n",
       "medida_3                     int64\n",
       "medida_4                     int64\n",
       "medida_5                     int64\n",
       "medida_6                     int64\n",
       "medida_7                     int64\n",
       "medida_8                     int64\n",
       "medida_9                     int64\n",
       "medida_10                    int64\n",
       "medida_11                    int64\n",
       "medida_12                    int64\n",
       "medida_13                    int64\n",
       "medida_14                    int64\n",
       "medida_15                    int64\n",
       "horas_desde_utlimo_fallo     int64\n",
       "fallo                       object\n",
       "año                          int64\n",
       "mes                          int64\n",
       "dia_mes                      int64\n",
       "dia_semana                   int64\n",
       "hora                         int64\n",
       "minuto                       int64\n",
       "segundo                      int64\n",
       "dtype: object"
      ]
     },
     "execution_count": 9,
     "metadata": {},
     "output_type": "execute_result"
    }
   ],
   "source": [
    "df.dtypes"
   ]
  },
  {
   "cell_type": "code",
   "execution_count": 10,
   "id": "ace7a8db",
   "metadata": {},
   "outputs": [
    {
     "data": {
      "text/plain": [
       "0    1224\n",
       "1    1208\n",
       "2    1251\n",
       "3    1236\n",
       "Name: medida_2, dtype: int64"
      ]
     },
     "execution_count": 10,
     "metadata": {},
     "output_type": "execute_result"
    }
   ],
   "source": [
    "df.medida_2.value_counts().sort_index()"
   ]
  },
  {
   "cell_type": "code",
   "execution_count": 11,
   "id": "ca200778",
   "metadata": {},
   "outputs": [
    {
     "data": {
      "text/plain": [
       "0    1644\n",
       "1    1625\n",
       "2    1650\n",
       "Name: medida_3, dtype: int64"
      ]
     },
     "execution_count": 11,
     "metadata": {},
     "output_type": "execute_result"
    }
   ],
   "source": [
    "df.medida_3.value_counts().sort_index()"
   ]
  },
  {
   "cell_type": "markdown",
   "id": "c7b826af",
   "metadata": {},
   "source": [
    "Hay dos variables que vienen como enteros pero las vamos a tratar como categóricas ya que solo tienen 3 o 4 valores diferentes cada una."
   ]
  },
  {
   "cell_type": "markdown",
   "id": "44ca7f42",
   "metadata": {},
   "source": [
    "El mes, dia_mes y dia_semana también los modificamos a categorica."
   ]
  },
  {
   "cell_type": "code",
   "execution_count": 12,
   "id": "10043128",
   "metadata": {},
   "outputs": [
    {
     "name": "stdout",
     "output_type": "stream",
     "text": [
      "<class 'pandas.core.frame.DataFrame'>\n",
      "Index: 4919 entries, 2016-01-01 02:00:00 to 2016-12-31 23:00:00\n",
      "Data columns (total 27 columns):\n",
      " #   Column                    Non-Null Count  Dtype \n",
      "---  ------                    --------------  ----- \n",
      " 0   temperatura               4919 non-null   int64 \n",
      " 1   humedad                   4919 non-null   int64 \n",
      " 2   operador                  4919 non-null   object\n",
      " 3   medida_1                  4919 non-null   int64 \n",
      " 4   medida_2                  4919 non-null   int64 \n",
      " 5   medida_3                  4919 non-null   int64 \n",
      " 6   medida_4                  4919 non-null   int64 \n",
      " 7   medida_5                  4919 non-null   int64 \n",
      " 8   medida_6                  4919 non-null   int64 \n",
      " 9   medida_7                  4919 non-null   int64 \n",
      " 10  medida_8                  4919 non-null   int64 \n",
      " 11  medida_9                  4919 non-null   int64 \n",
      " 12  medida_10                 4919 non-null   int64 \n",
      " 13  medida_11                 4919 non-null   int64 \n",
      " 14  medida_12                 4919 non-null   int64 \n",
      " 15  medida_13                 4919 non-null   int64 \n",
      " 16  medida_14                 4919 non-null   int64 \n",
      " 17  medida_15                 4919 non-null   int64 \n",
      " 18  horas_desde_utlimo_fallo  4919 non-null   int64 \n",
      " 19  fallo                     4919 non-null   object\n",
      " 20  año                       4919 non-null   int64 \n",
      " 21  mes                       4919 non-null   int64 \n",
      " 22  dia_mes                   4919 non-null   int64 \n",
      " 23  dia_semana                4919 non-null   int64 \n",
      " 24  hora                      4919 non-null   int64 \n",
      " 25  minuto                    4919 non-null   int64 \n",
      " 26  segundo                   4919 non-null   int64 \n",
      "dtypes: int64(25), object(2)\n",
      "memory usage: 1.1+ MB\n"
     ]
    }
   ],
   "source": [
    "df.info()"
   ]
  },
  {
   "cell_type": "markdown",
   "id": "54f495a6",
   "metadata": {},
   "source": [
    "### Corrección"
   ]
  },
  {
   "cell_type": "code",
   "execution_count": 13,
   "id": "2a3a6c16",
   "metadata": {},
   "outputs": [
    {
     "data": {
      "text/plain": [
       "temperatura                  int64\n",
       "humedad                      int64\n",
       "operador                    object\n",
       "medida_1                     int64\n",
       "medida_2                    object\n",
       "medida_3                    object\n",
       "medida_4                     int64\n",
       "medida_5                     int64\n",
       "medida_6                     int64\n",
       "medida_7                     int64\n",
       "medida_8                     int64\n",
       "medida_9                     int64\n",
       "medida_10                    int64\n",
       "medida_11                    int64\n",
       "medida_12                    int64\n",
       "medida_13                    int64\n",
       "medida_14                    int64\n",
       "medida_15                    int64\n",
       "horas_desde_utlimo_fallo     int64\n",
       "fallo                       object\n",
       "año                          int64\n",
       "mes                         object\n",
       "dia_mes                     object\n",
       "dia_semana                  object\n",
       "hora                         int64\n",
       "minuto                       int64\n",
       "segundo                      int64\n",
       "dtype: object"
      ]
     },
     "execution_count": 13,
     "metadata": {},
     "output_type": "execute_result"
    }
   ],
   "source": [
    "df = df.astype({'medida_2':'object',\n",
    "                'medida_3':'object',\n",
    "                'mes':'object',\n",
    "                'dia_mes':'object',\n",
    "                'dia_semana':'object'}\n",
    "                )\n",
    "\n",
    "df.dtypes"
   ]
  },
  {
   "cell_type": "markdown",
   "id": "cc8d4a22",
   "metadata": {},
   "source": [
    "## VALORES ÚNICOS"
   ]
  },
  {
   "cell_type": "markdown",
   "id": "f21f0e36",
   "metadata": {},
   "source": [
    "### Identificación"
   ]
  },
  {
   "cell_type": "code",
   "execution_count": 14,
   "id": "6e53e444",
   "metadata": {},
   "outputs": [
    {
     "data": {
      "text/plain": [
       "segundo                        1\n",
       "año                            1\n",
       "minuto                         1\n",
       "medida_3                       3\n",
       "fallo                          3\n",
       "medida_2                       4\n",
       "dia_semana                     7\n",
       "operador                       8\n",
       "mes                           12\n",
       "temperatura                   20\n",
       "hora                          24\n",
       "dia_mes                       31\n",
       "humedad                       32\n",
       "horas_desde_utlimo_fallo     637\n",
       "medida_15                   1717\n",
       "medida_14                   1723\n",
       "medida_9                    1726\n",
       "medida_12                   1727\n",
       "medida_1                    1728\n",
       "medida_13                   1729\n",
       "medida_8                    1732\n",
       "medida_6                    1735\n",
       "medida_4                    1735\n",
       "medida_10                   1736\n",
       "medida_11                   1737\n",
       "medida_7                    1741\n",
       "medida_5                    1744\n",
       "dtype: int64"
      ]
     },
     "execution_count": 14,
     "metadata": {},
     "output_type": "execute_result"
    }
   ],
   "source": [
    "df.nunique().sort_values()"
   ]
  },
  {
   "cell_type": "markdown",
   "id": "b1d1a668",
   "metadata": {},
   "source": [
    "### Corrección"
   ]
  },
  {
   "cell_type": "markdown",
   "id": "91309d90",
   "metadata": {},
   "source": [
    "Como estos datos el segundo el minuto y año son siempre iguales, borramos las variables. Apuntamos que medida 2 y media 3 tiene pocos valores diferentes."
   ]
  },
  {
   "cell_type": "code",
   "execution_count": 15,
   "id": "e88591b3",
   "metadata": {},
   "outputs": [
    {
     "name": "stdout",
     "output_type": "stream",
     "text": [
      "<class 'pandas.core.frame.DataFrame'>\n",
      "Index: 4919 entries, 2016-01-01 02:00:00 to 2016-12-31 23:00:00\n",
      "Data columns (total 27 columns):\n",
      " #   Column                    Non-Null Count  Dtype \n",
      "---  ------                    --------------  ----- \n",
      " 0   temperatura               4919 non-null   int64 \n",
      " 1   humedad                   4919 non-null   int64 \n",
      " 2   operador                  4919 non-null   object\n",
      " 3   medida_1                  4919 non-null   int64 \n",
      " 4   medida_2                  4919 non-null   object\n",
      " 5   medida_3                  4919 non-null   object\n",
      " 6   medida_4                  4919 non-null   int64 \n",
      " 7   medida_5                  4919 non-null   int64 \n",
      " 8   medida_6                  4919 non-null   int64 \n",
      " 9   medida_7                  4919 non-null   int64 \n",
      " 10  medida_8                  4919 non-null   int64 \n",
      " 11  medida_9                  4919 non-null   int64 \n",
      " 12  medida_10                 4919 non-null   int64 \n",
      " 13  medida_11                 4919 non-null   int64 \n",
      " 14  medida_12                 4919 non-null   int64 \n",
      " 15  medida_13                 4919 non-null   int64 \n",
      " 16  medida_14                 4919 non-null   int64 \n",
      " 17  medida_15                 4919 non-null   int64 \n",
      " 18  horas_desde_utlimo_fallo  4919 non-null   int64 \n",
      " 19  fallo                     4919 non-null   object\n",
      " 20  año                       4919 non-null   int64 \n",
      " 21  mes                       4919 non-null   object\n",
      " 22  dia_mes                   4919 non-null   object\n",
      " 23  dia_semana                4919 non-null   object\n",
      " 24  hora                      4919 non-null   int64 \n",
      " 25  minuto                    4919 non-null   int64 \n",
      " 26  segundo                   4919 non-null   int64 \n",
      "dtypes: int64(20), object(7)\n",
      "memory usage: 1.1+ MB\n"
     ]
    }
   ],
   "source": [
    "df.info()"
   ]
  },
  {
   "cell_type": "code",
   "execution_count": 16,
   "id": "62f7d14e",
   "metadata": {},
   "outputs": [],
   "source": [
    "df.drop(columns = ['segundo','minuto','año'], axis =1,inplace = True)"
   ]
  },
  {
   "cell_type": "markdown",
   "id": "e25cfc89",
   "metadata": {},
   "source": [
    "## DUPLICADOS"
   ]
  },
  {
   "cell_type": "markdown",
   "id": "8a079ed3",
   "metadata": {},
   "source": [
    "### Identificación"
   ]
  },
  {
   "cell_type": "code",
   "execution_count": 17,
   "id": "f5b23bfc",
   "metadata": {
    "scrolled": true
   },
   "outputs": [
    {
     "data": {
      "text/plain": [
       "0"
      ]
     },
     "execution_count": 17,
     "metadata": {},
     "output_type": "execute_result"
    }
   ],
   "source": [
    "df.duplicated().sum()"
   ]
  },
  {
   "cell_type": "markdown",
   "id": "3a1f861f",
   "metadata": {},
   "source": [
    "### Corrección"
   ]
  },
  {
   "cell_type": "code",
   "execution_count": 18,
   "id": "a5095b3c",
   "metadata": {},
   "outputs": [],
   "source": [
    "df.drop_duplicates(inplace = True)"
   ]
  },
  {
   "cell_type": "markdown",
   "id": "632ec2cd",
   "metadata": {},
   "source": [
    "## SEPARAR NUMÉRICAS Y CATEGÓRICAS"
   ]
  },
  {
   "cell_type": "markdown",
   "id": "573a61ac",
   "metadata": {},
   "source": [
    "### Categóricas"
   ]
  },
  {
   "cell_type": "code",
   "execution_count": 19,
   "id": "47a7eece",
   "metadata": {},
   "outputs": [],
   "source": [
    "cat = df.select_dtypes(exclude = 'number').copy()"
   ]
  },
  {
   "cell_type": "markdown",
   "id": "41756893",
   "metadata": {},
   "source": [
    "### Numéricas"
   ]
  },
  {
   "cell_type": "code",
   "execution_count": 20,
   "id": "59140e9a",
   "metadata": {},
   "outputs": [],
   "source": [
    "num = df.select_dtypes(include='number').copy()"
   ]
  },
  {
   "cell_type": "markdown",
   "id": "5e7d8e7e",
   "metadata": {},
   "source": [
    "## GESTIÓN DE CATEGÓRICAS"
   ]
  },
  {
   "cell_type": "markdown",
   "id": "5b5808b7",
   "metadata": {},
   "source": [
    "### Nulos"
   ]
  },
  {
   "cell_type": "markdown",
   "id": "5c08ca55",
   "metadata": {},
   "source": [
    "#### Identificación"
   ]
  },
  {
   "cell_type": "code",
   "execution_count": 21,
   "id": "da49ae63",
   "metadata": {
    "scrolled": true
   },
   "outputs": [
    {
     "data": {
      "text/plain": [
       "operador      0\n",
       "medida_2      0\n",
       "medida_3      0\n",
       "fallo         0\n",
       "mes           0\n",
       "dia_mes       0\n",
       "dia_semana    0\n",
       "dtype: int64"
      ]
     },
     "execution_count": 21,
     "metadata": {},
     "output_type": "execute_result"
    }
   ],
   "source": [
    "cat.isna().sum().sort_values(ascending = False)"
   ]
  },
  {
   "cell_type": "markdown",
   "id": "21953634",
   "metadata": {},
   "source": [
    "No hay nulos pero valorar poner una función por si en un futuro vinieran"
   ]
  },
  {
   "cell_type": "markdown",
   "id": "913cd65d",
   "metadata": {},
   "source": [
    "### Atípicos"
   ]
  },
  {
   "cell_type": "markdown",
   "id": "4c8bb538",
   "metadata": {},
   "source": [
    "No hay atípicos"
   ]
  },
  {
   "cell_type": "markdown",
   "id": "db3a72a6",
   "metadata": {},
   "source": [
    "## GESTIÓN DE NUMÉRICAS"
   ]
  },
  {
   "cell_type": "markdown",
   "id": "d65bd06a",
   "metadata": {},
   "source": [
    "### Nulos"
   ]
  },
  {
   "cell_type": "markdown",
   "id": "e5ee8416",
   "metadata": {},
   "source": [
    "#### Identificación"
   ]
  },
  {
   "cell_type": "code",
   "execution_count": 22,
   "id": "c9f054a3",
   "metadata": {
    "scrolled": true
   },
   "outputs": [
    {
     "data": {
      "text/plain": [
       "temperatura                 0\n",
       "medida_10                   0\n",
       "horas_desde_utlimo_fallo    0\n",
       "medida_15                   0\n",
       "medida_14                   0\n",
       "medida_13                   0\n",
       "medida_12                   0\n",
       "medida_11                   0\n",
       "medida_9                    0\n",
       "humedad                     0\n",
       "medida_8                    0\n",
       "medida_7                    0\n",
       "medida_6                    0\n",
       "medida_5                    0\n",
       "medida_4                    0\n",
       "medida_1                    0\n",
       "hora                        0\n",
       "dtype: int64"
      ]
     },
     "execution_count": 22,
     "metadata": {},
     "output_type": "execute_result"
    }
   ],
   "source": [
    "num.isna().sum().sort_values(ascending = False)"
   ]
  },
  {
   "cell_type": "markdown",
   "id": "5d9fa102",
   "metadata": {},
   "source": [
    "#### Corrección"
   ]
  },
  {
   "cell_type": "markdown",
   "id": "c4977d4a",
   "metadata": {},
   "source": [
    "##### Imputar por la mediana"
   ]
  },
  {
   "cell_type": "markdown",
   "id": "bfb30c8c",
   "metadata": {},
   "source": [
    "###### Variables a imputar"
   ]
  },
  {
   "cell_type": "code",
   "execution_count": 23,
   "id": "20c8c2ba",
   "metadata": {},
   "outputs": [],
   "source": [
    "var_imputar_mediana = num.columns.to_list()"
   ]
  },
  {
   "cell_type": "markdown",
   "id": "fb035899",
   "metadata": {},
   "source": [
    "###### Funcion para imputar con la mediana"
   ]
  },
  {
   "cell_type": "code",
   "execution_count": 24,
   "id": "0795ab42",
   "metadata": {},
   "outputs": [],
   "source": [
    "def imputar_mediana(variable):\n",
    "    if pd.api.types.is_integer_dtype(variable):\n",
    "        return(variable.fillna(int(variable.median())))\n",
    "    else:\n",
    "        return(variable.fillna(variable.median()))"
   ]
  },
  {
   "cell_type": "markdown",
   "id": "52c4a0e2",
   "metadata": {},
   "source": [
    "###### Imputar con la mediana"
   ]
  },
  {
   "cell_type": "code",
   "execution_count": 25,
   "id": "d554f382",
   "metadata": {},
   "outputs": [],
   "source": [
    "num[var_imputar_mediana] = num[var_imputar_mediana].apply(imputar_mediana)"
   ]
  },
  {
   "cell_type": "markdown",
   "id": "06664347",
   "metadata": {},
   "source": [
    "No hay nulos, pero hacemos una imputación por la mediana en caso de que existan."
   ]
  },
  {
   "cell_type": "markdown",
   "id": "82cb56e8",
   "metadata": {},
   "source": [
    "### Atípicos"
   ]
  },
  {
   "cell_type": "markdown",
   "id": "19e56d70",
   "metadata": {},
   "source": [
    "#### Por winsorización manual para una variable"
   ]
  },
  {
   "cell_type": "markdown",
   "id": "aea7c031",
   "metadata": {},
   "source": [
    "##### Corrección"
   ]
  },
  {
   "cell_type": "markdown",
   "id": "5ed28f68",
   "metadata": {},
   "source": [
    "###### Definir el mínimo y máximo tolerable."
   ]
  },
  {
   "cell_type": "code",
   "execution_count": 26,
   "id": "d818dd41",
   "metadata": {},
   "outputs": [
    {
     "name": "stdout",
     "output_type": "stream",
     "text": [
      "<class 'pandas.core.frame.DataFrame'>\n",
      "Index: 4919 entries, 2016-01-01 02:00:00 to 2016-12-31 23:00:00\n",
      "Data columns (total 17 columns):\n",
      " #   Column                    Non-Null Count  Dtype\n",
      "---  ------                    --------------  -----\n",
      " 0   temperatura               4919 non-null   int64\n",
      " 1   humedad                   4919 non-null   int64\n",
      " 2   medida_1                  4919 non-null   int64\n",
      " 3   medida_4                  4919 non-null   int64\n",
      " 4   medida_5                  4919 non-null   int64\n",
      " 5   medida_6                  4919 non-null   int64\n",
      " 6   medida_7                  4919 non-null   int64\n",
      " 7   medida_8                  4919 non-null   int64\n",
      " 8   medida_9                  4919 non-null   int64\n",
      " 9   medida_10                 4919 non-null   int64\n",
      " 10  medida_11                 4919 non-null   int64\n",
      " 11  medida_12                 4919 non-null   int64\n",
      " 12  medida_13                 4919 non-null   int64\n",
      " 13  medida_14                 4919 non-null   int64\n",
      " 14  medida_15                 4919 non-null   int64\n",
      " 15  horas_desde_utlimo_fallo  4919 non-null   int64\n",
      " 16  hora                      4919 non-null   int64\n",
      "dtypes: int64(17)\n",
      "memory usage: 691.7+ KB\n"
     ]
    }
   ],
   "source": [
    "num.info()"
   ]
  },
  {
   "cell_type": "markdown",
   "id": "25eaba22",
   "metadata": {},
   "source": [
    "###### Aplicar"
   ]
  },
  {
   "cell_type": "code",
   "execution_count": 27,
   "id": "4d61c9fc",
   "metadata": {},
   "outputs": [],
   "source": [
    "num['temperatura'].clip(50,80, inplace=True)\n",
    "num['humedad'].clip(60,120, inplace=True)\n",
    "num['horas_desde_utlimo_fallo'].clip(0,1000, inplace=True)"
   ]
  },
  {
   "cell_type": "markdown",
   "id": "0f6b1e4a",
   "metadata": {},
   "source": [
    "## GUARDAR DATASETS TRAS CALIDAD DE DATOS"
   ]
  },
  {
   "cell_type": "markdown",
   "id": "1e211b09",
   "metadata": {},
   "source": [
    "Guarda los avances en df, cat y num con un sufijo para poder guardar o recuperar avances del proyecto.\n",
    "\n",
    "En formato pickle para no perder las modificaciones de metadatos."
   ]
  },
  {
   "cell_type": "markdown",
   "id": "abb12eef",
   "metadata": {},
   "source": [
    "### Definir los nombres de los archivos"
   ]
  },
  {
   "cell_type": "code",
   "execution_count": 28,
   "id": "f83c6f26",
   "metadata": {},
   "outputs": [],
   "source": [
    "ruta_trabajo = ruta_proyecto + '/02_Datos/03_Trabajo/' + 'trabajo_resultado_calidad.pickle'\n",
    "ruta_cat = ruta_proyecto + '/02_Datos/03_Trabajo/' + 'cat_resultado_calidad.pickle'\n",
    "ruta_num = ruta_proyecto + '/02_Datos/03_Trabajo/' + 'num_resultado_calidad.pickle'"
   ]
  },
  {
   "cell_type": "markdown",
   "id": "1699f284",
   "metadata": {},
   "source": [
    "### Guardar los archivos"
   ]
  },
  {
   "cell_type": "code",
   "execution_count": 29,
   "id": "6731887a",
   "metadata": {},
   "outputs": [],
   "source": [
    "df.to_pickle(ruta_trabajo)\n",
    "cat.to_pickle(ruta_cat)\n",
    "num.to_pickle(ruta_num)"
   ]
  }
 ],
 "metadata": {
  "kernelspec": {
   "display_name": "Python 3 (ipykernel)",
   "language": "python",
   "name": "python3"
  },
  "language_info": {
   "codemirror_mode": {
    "name": "ipython",
    "version": 3
   },
   "file_extension": ".py",
   "mimetype": "text/x-python",
   "name": "python",
   "nbconvert_exporter": "python",
   "pygments_lexer": "ipython3",
   "version": "3.9.12"
  },
  "toc": {
   "base_numbering": 1,
   "nav_menu": {},
   "number_sections": true,
   "sideBar": true,
   "skip_h1_title": false,
   "title_cell": "Table of Contents",
   "title_sidebar": "Contents",
   "toc_cell": false,
   "toc_position": {
    "height": "calc(100% - 180px)",
    "left": "10px",
    "top": "150px",
    "width": "225.998px"
   },
   "toc_section_display": true,
   "toc_window_display": true
  },
  "varInspector": {
   "cols": {
    "lenName": 16,
    "lenType": 16,
    "lenVar": 40
   },
   "kernels_config": {
    "python": {
     "delete_cmd_postfix": "",
     "delete_cmd_prefix": "del ",
     "library": "var_list.py",
     "varRefreshCmd": "print(var_dic_list())"
    },
    "r": {
     "delete_cmd_postfix": ") ",
     "delete_cmd_prefix": "rm(",
     "library": "var_list.r",
     "varRefreshCmd": "cat(var_dic_list()) "
    }
   },
   "position": {
    "height": "546.85px",
    "left": "680.75px",
    "right": "20px",
    "top": "118px",
    "width": "350px"
   },
   "types_to_exclude": [
    "module",
    "function",
    "builtin_function_or_method",
    "instance",
    "_Feature"
   ],
   "window_display": false
  }
 },
 "nbformat": 4,
 "nbformat_minor": 5
}
