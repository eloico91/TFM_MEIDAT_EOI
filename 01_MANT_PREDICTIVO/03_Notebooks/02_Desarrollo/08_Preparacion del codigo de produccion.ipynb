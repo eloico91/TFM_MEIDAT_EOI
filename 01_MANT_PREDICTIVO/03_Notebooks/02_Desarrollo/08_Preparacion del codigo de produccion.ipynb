{
 "cells": [
  {
   "cell_type": "markdown",
   "id": "797ae63f",
   "metadata": {},
   "source": [
    "## IMPORTAR LAS LIBRERIAS"
   ]
  },
  {
   "cell_type": "markdown",
   "id": "64445de1",
   "metadata": {},
   "source": [
    "Actualizar a las que se usen finalmente en tu proyecto."
   ]
  },
  {
   "cell_type": "code",
   "execution_count": 1,
   "id": "ffe7be80",
   "metadata": {},
   "outputs": [
    {
     "name": "stderr",
     "output_type": "stream",
     "text": [
      "C:\\Users\\eloic\\miniconda3\\envs\\mant_predictivo\\lib\\site-packages\\xgboost\\compat.py:36: FutureWarning: pandas.Int64Index is deprecated and will be removed from pandas in a future version. Use pandas.Index with the appropriate dtype instead.\n",
      "  from pandas import MultiIndex, Int64Index\n"
     ]
    }
   ],
   "source": [
    "import numpy as np\n",
    "import pandas as pd\n",
    "import cloudpickle\n",
    "\n",
    "#Automcompletar rápido\n",
    "%config IPCompleter.greedy=True\n",
    "\n",
    "from janitor import clean_names\n",
    "\n",
    "from sklearn.preprocessing import MinMaxScaler\n",
    "from imblearn.over_sampling import RandomOverSampler\n",
    "\n",
    "from xgboost import XGBClassifier\n",
    "\n",
    "from sklearn.pipeline import Pipeline\n",
    "from sklearn.preprocessing import FunctionTransformer\n",
    "from sklearn.compose import make_column_transformer\n",
    "from sklearn.pipeline import make_pipeline"
   ]
  },
  {
   "cell_type": "markdown",
   "id": "5e12241c",
   "metadata": {},
   "source": [
    "## CARGAR LOS DATOS"
   ]
  },
  {
   "cell_type": "markdown",
   "id": "807b37d3",
   "metadata": {},
   "source": [
    "### Ruta del proyecto"
   ]
  },
  {
   "cell_type": "code",
   "execution_count": 2,
   "id": "5a6711f7",
   "metadata": {},
   "outputs": [],
   "source": [
    "ruta_proyecto = 'C:/Users/eloic/Google Drive/EOI/TFM//01_MANT_PREDICTIVO'"
   ]
  },
  {
   "cell_type": "markdown",
   "id": "89fe9a43",
   "metadata": {},
   "source": [
    "### Nombre del fichero de datos"
   ]
  },
  {
   "cell_type": "code",
   "execution_count": 3,
   "id": "25b345d7",
   "metadata": {},
   "outputs": [],
   "source": [
    "nombre_fichero_datos = 'MntoMaquina.xlsx'"
   ]
  },
  {
   "cell_type": "markdown",
   "id": "765f82e1",
   "metadata": {},
   "source": [
    "### Cargar los datos"
   ]
  },
  {
   "cell_type": "code",
   "execution_count": 4,
   "id": "480494ff",
   "metadata": {},
   "outputs": [],
   "source": [
    "ruta_completa = ruta_proyecto + '/02_Datos/01_Originales/' + nombre_fichero_datos\n",
    "\n",
    "df = pd.read_excel(ruta_completa, index_col = 0, header = 1)"
   ]
  },
  {
   "cell_type": "markdown",
   "id": "454738c9",
   "metadata": {},
   "source": [
    "### Seleccionar solo las variables finales"
   ]
  },
  {
   "cell_type": "markdown",
   "id": "ba546b91",
   "metadata": {},
   "source": [
    "#### Cargar la lista de variables finales"
   ]
  },
  {
   "cell_type": "code",
   "execution_count": 5,
   "id": "26066884",
   "metadata": {},
   "outputs": [
    {
     "data": {
      "text/plain": [
       "['horas_desde_utlimo_fallo_mms', 'humedad_mms', 'temperatura_mms']"
      ]
     },
     "execution_count": 5,
     "metadata": {},
     "output_type": "execute_result"
    }
   ],
   "source": [
    "nombre_variables_finales = ruta_proyecto + '/05_Resultados/' + 'variables_finales.pickle'\n",
    "\n",
    "pd.read_pickle(nombre_variables_finales).sort_index().index.to_list()"
   ]
  },
  {
   "cell_type": "markdown",
   "id": "9c127d9a",
   "metadata": {},
   "source": [
    "#### Apuntar (manualmente) la lista de variables finales sin extensiones"
   ]
  },
  {
   "cell_type": "code",
   "execution_count": 6,
   "id": "da477021",
   "metadata": {},
   "outputs": [],
   "source": [
    "variables_finales = ['horas_desde_utlimo_fallo',\n",
    "                   'humedad',\n",
    "                   'temperatura']"
   ]
  },
  {
   "cell_type": "markdown",
   "id": "f81f09bf",
   "metadata": {},
   "source": [
    "#### Crear la matriz de variables procesos (excel)"
   ]
  },
  {
   "cell_type": "markdown",
   "id": "735beb13",
   "metadata": {},
   "source": [
    "Ir a la plantilla de Excel \"Fase Producción Plantilla Procesos\" y crear la matriz de variables por procesos."
   ]
  },
  {
   "cell_type": "markdown",
   "id": "ee3f31a6",
   "metadata": {},
   "source": [
    "#### Actualizar las importaciones"
   ]
  },
  {
   "cell_type": "markdown",
   "id": "80c12eea",
   "metadata": {},
   "source": [
    "Ir arriba a la celda de importacion de paquetes y actualizarlos con los que finalmente vamos a usar."
   ]
  },
  {
   "cell_type": "markdown",
   "id": "fe5a706b",
   "metadata": {},
   "source": [
    "## ESTRUCTURA DE LOS DATASETS"
   ]
  },
  {
   "cell_type": "markdown",
   "id": "32cd09e5",
   "metadata": {},
   "source": [
    "### Corregir los nombres"
   ]
  },
  {
   "cell_type": "code",
   "execution_count": 7,
   "id": "f08e56d8",
   "metadata": {},
   "outputs": [],
   "source": [
    "df.rename(columns = {'Temperature':'temperatura',\n",
    "                     'Humidity':'humedad',\n",
    "                     'Hours Since Previous Failure':'horas_desde_utlimo_fallo',\n",
    "                     'Failure':'fallo'}, inplace=True)"
   ]
  },
  {
   "cell_type": "markdown",
   "id": "a9cd9497",
   "metadata": {},
   "source": [
    "### Eliminar registros"
   ]
  },
  {
   "cell_type": "markdown",
   "id": "4af7dbab",
   "metadata": {},
   "source": [
    "#### Por duplicados"
   ]
  },
  {
   "cell_type": "code",
   "execution_count": 8,
   "id": "361fd5f0",
   "metadata": {},
   "outputs": [],
   "source": [
    "df.drop_duplicates(inplace = True)"
   ]
  },
  {
   "cell_type": "markdown",
   "id": "2f729778",
   "metadata": {},
   "source": [
    "### Balanceo"
   ]
  },
  {
   "cell_type": "code",
   "execution_count": 9,
   "id": "3d8d5466",
   "metadata": {},
   "outputs": [],
   "source": [
    "def sin_balanceo(df):\n",
    "    variables_finales = ['horas_desde_utlimo_fallo',\n",
    "                        'humedad',\n",
    "                        'temperatura']\n",
    "    x1 = df[variables_finales].copy()\n",
    "    y1 = df['fallo'].map({'Yes':1,'No':0})\n",
    "\n",
    "    return(x1, y1)"
   ]
  },
  {
   "cell_type": "markdown",
   "id": "fc389c24",
   "metadata": {},
   "source": [
    "#### Aplicamos función balanceo"
   ]
  },
  {
   "cell_type": "code",
   "execution_count": 10,
   "id": "5e0bf395",
   "metadata": {},
   "outputs": [],
   "source": [
    "x,y = sin_balanceo(df)"
   ]
  },
  {
   "cell_type": "markdown",
   "id": "bc3e8e8f",
   "metadata": {},
   "source": [
    "Ya tenemos definida la x y la y final"
   ]
  },
  {
   "cell_type": "markdown",
   "id": "99bb2255",
   "metadata": {},
   "source": [
    "## CREAR EL PIPELINE"
   ]
  },
  {
   "cell_type": "markdown",
   "id": "70af4abf",
   "metadata": {},
   "source": [
    "### Instanciar calidad de datos"
   ]
  },
  {
   "cell_type": "code",
   "execution_count": 11,
   "id": "55940de1",
   "metadata": {},
   "outputs": [
    {
     "name": "stdout",
     "output_type": "stream",
     "text": [
      "<class 'pandas.core.frame.DataFrame'>\n",
      "DatetimeIndex: 7027 entries, 2016-01-01 01:00:00 to 2016-12-31 23:00:00\n",
      "Data columns (total 3 columns):\n",
      " #   Column                    Non-Null Count  Dtype\n",
      "---  ------                    --------------  -----\n",
      " 0   horas_desde_utlimo_fallo  7027 non-null   int64\n",
      " 1   humedad                   7027 non-null   int64\n",
      " 2   temperatura               7027 non-null   int64\n",
      "dtypes: int64(3)\n",
      "memory usage: 219.6 KB\n"
     ]
    }
   ],
   "source": [
    "x.info()"
   ]
  },
  {
   "cell_type": "markdown",
   "id": "06178080",
   "metadata": {},
   "source": [
    "#### Crear la función"
   ]
  },
  {
   "cell_type": "code",
   "execution_count": 12,
   "id": "148da9b2",
   "metadata": {},
   "outputs": [
    {
     "data": {
      "text/plain": [
       "['horas_desde_utlimo_fallo', 'humedad', 'temperatura']"
      ]
     },
     "execution_count": 12,
     "metadata": {},
     "output_type": "execute_result"
    }
   ],
   "source": [
    "x.columns.to_list()"
   ]
  },
  {
   "cell_type": "code",
   "execution_count": 13,
   "id": "98177b43",
   "metadata": {},
   "outputs": [],
   "source": [
    "def calidad_datos(df):\n",
    "    temp = df.copy()\n",
    "    \n",
    "    var_imputar_mediana = ['horas_desde_utlimo_fallo', 'humedad', 'temperatura']\n",
    "    \n",
    "    def imputar_mediana(variable):\n",
    "        if pd.api.types.is_integer_dtype(variable):\n",
    "            return(variable.fillna(int(variable.median())))\n",
    "        else:\n",
    "            return(variable.fillna(variable.median()))\n",
    "        \n",
    "    temp[var_imputar_mediana] = temp[var_imputar_mediana].apply(imputar_mediana)\n",
    "    \n",
    "    temp['temperatura'].clip(50,80, inplace=True)\n",
    "    temp['humedad'].clip(60,120, inplace=True)\n",
    "    temp['horas_desde_utlimo_fallo'].clip(0,1000, inplace=True)\n",
    "    \n",
    "    return(temp)"
   ]
  },
  {
   "cell_type": "markdown",
   "id": "95bd7490",
   "metadata": {},
   "source": [
    "#### Convertirla en transformer"
   ]
  },
  {
   "cell_type": "code",
   "execution_count": 14,
   "id": "6805f964",
   "metadata": {},
   "outputs": [],
   "source": [
    "hacer_calidad_datos = FunctionTransformer(calidad_datos)"
   ]
  },
  {
   "cell_type": "markdown",
   "id": "88e57147",
   "metadata": {},
   "source": [
    "### Instanciar transformación de variables"
   ]
  },
  {
   "cell_type": "code",
   "execution_count": 15,
   "id": "ee711664",
   "metadata": {},
   "outputs": [],
   "source": [
    "var_mms = ['temperatura','humedad','horas_desde_utlimo_fallo']\n",
    "mms = MinMaxScaler()"
   ]
  },
  {
   "cell_type": "markdown",
   "id": "3e533b66",
   "metadata": {},
   "source": [
    "### Crear el pipe del balanceo"
   ]
  },
  {
   "cell_type": "markdown",
   "id": "32c6ec81",
   "metadata": {},
   "source": [
    "#### Convertirla en transformer"
   ]
  },
  {
   "cell_type": "code",
   "execution_count": 17,
   "id": "e81cff0f",
   "metadata": {},
   "outputs": [],
   "source": [
    "# hacer_balanceo_Over = FunctionTransformer(balanceo_Over)"
   ]
  },
  {
   "cell_type": "markdown",
   "id": "eaf3f141",
   "metadata": {},
   "source": [
    "### Crear el pipe del preprocesamiento"
   ]
  },
  {
   "cell_type": "markdown",
   "id": "8d7b7821",
   "metadata": {},
   "source": [
    "#### Crear el column transformer"
   ]
  },
  {
   "cell_type": "code",
   "execution_count": 18,
   "id": "e577b34d",
   "metadata": {},
   "outputs": [],
   "source": [
    "ct = make_column_transformer(\n",
    "    (mms, var_mms),\n",
    "    remainder='drop')"
   ]
  },
  {
   "cell_type": "markdown",
   "id": "5de30e37",
   "metadata": {},
   "source": [
    "#### Crear el pipeline del preprocesamiento"
   ]
  },
  {
   "cell_type": "code",
   "execution_count": 19,
   "id": "54e1300d",
   "metadata": {},
   "outputs": [],
   "source": [
    "pipe_prepro = make_pipeline(hacer_calidad_datos,\n",
    "                            ct)"
   ]
  },
  {
   "cell_type": "markdown",
   "id": "d4b08601",
   "metadata": {},
   "source": [
    "### Instanciar el modelo"
   ]
  },
  {
   "cell_type": "markdown",
   "id": "b64c9e60",
   "metadata": {},
   "source": [
    "#### Instanciar el algoritmo"
   ]
  },
  {
   "cell_type": "code",
   "execution_count": 21,
   "id": "8b2e752d",
   "metadata": {},
   "outputs": [],
   "source": [
    "modelo = XGBClassifier(n_jobs = -1, \n",
    "                       verbosity = 0,\n",
    "                       learning_rate = 0.1,\n",
    "                       max_depth = 20,\n",
    "                       reg_alpha = 1,\n",
    "                       reg_lambda = 0.1,\n",
    "                       n_estimators = 100\n",
    "                       )"
   ]
  },
  {
   "cell_type": "markdown",
   "id": "80f8e2f3",
   "metadata": {},
   "source": [
    "#### Crear el pipe final de entrenamiento"
   ]
  },
  {
   "cell_type": "code",
   "execution_count": 22,
   "id": "0efb038b",
   "metadata": {},
   "outputs": [],
   "source": [
    "pipe_entrenamiento = make_pipeline(pipe_prepro,modelo,)"
   ]
  },
  {
   "cell_type": "markdown",
   "id": "cb0700d8",
   "metadata": {},
   "source": [
    "#### Guardar el pipe final de entrenamiento"
   ]
  },
  {
   "cell_type": "code",
   "execution_count": 23,
   "id": "71715e9c",
   "metadata": {},
   "outputs": [],
   "source": [
    "nombre_pipe_entrenamiento = 'pipe_entrenamiento.pickle'\n",
    "\n",
    "ruta_pipe_entrenamiento = ruta_proyecto + '/04_Modelos/' + nombre_pipe_entrenamiento\n",
    "\n",
    "with open(ruta_pipe_entrenamiento, mode='wb') as file:\n",
    "   cloudpickle.dump(pipe_entrenamiento, file)"
   ]
  },
  {
   "cell_type": "markdown",
   "id": "2c7e5ed1",
   "metadata": {},
   "source": [
    "#### Entrenar el pipe final de ejecución"
   ]
  },
  {
   "cell_type": "code",
   "execution_count": 24,
   "id": "13ca2db6",
   "metadata": {},
   "outputs": [
    {
     "name": "stderr",
     "output_type": "stream",
     "text": [
      "C:\\Users\\eloic\\miniconda3\\envs\\mant_predictivo\\lib\\site-packages\\xgboost\\sklearn.py:1224: UserWarning: The use of label encoder in XGBClassifier is deprecated and will be removed in a future release. To remove this warning, do the following: 1) Pass option use_label_encoder=False when constructing XGBClassifier object; and 2) Encode your labels (y) as integers starting with 0, i.e. 0, 1, 2, ..., [num_class - 1].\n",
      "  warnings.warn(label_encoder_deprecation_msg, UserWarning)\n"
     ]
    }
   ],
   "source": [
    "pipe_ejecucion = pipe_entrenamiento.fit(x,y)"
   ]
  },
  {
   "cell_type": "markdown",
   "id": "52e506db",
   "metadata": {},
   "source": [
    "## GUARDAR EL PIPE"
   ]
  },
  {
   "cell_type": "markdown",
   "id": "86a5de63",
   "metadata": {},
   "source": [
    "### Nombre del pipe final de ejecución"
   ]
  },
  {
   "cell_type": "code",
   "execution_count": 25,
   "id": "967c6480",
   "metadata": {},
   "outputs": [],
   "source": [
    "nombre_pipe_ejecucion = 'pipe_ejecucion.pickle'"
   ]
  },
  {
   "cell_type": "markdown",
   "id": "afba8bc8",
   "metadata": {},
   "source": [
    "### Guardar el pipe final de ejecución"
   ]
  },
  {
   "cell_type": "code",
   "execution_count": 26,
   "id": "1dda8f25",
   "metadata": {},
   "outputs": [],
   "source": [
    "ruta_pipe_ejecucion = ruta_proyecto + '/04_Modelos/' + nombre_pipe_ejecucion\n",
    "\n",
    "with open(ruta_pipe_ejecucion, mode='wb') as file:\n",
    "   cloudpickle.dump(pipe_ejecucion, file)"
   ]
  }
 ],
 "metadata": {
  "kernelspec": {
   "display_name": "Python 3 (ipykernel)",
   "language": "python",
   "name": "python3"
  },
  "language_info": {
   "codemirror_mode": {
    "name": "ipython",
    "version": 3
   },
   "file_extension": ".py",
   "mimetype": "text/x-python",
   "name": "python",
   "nbconvert_exporter": "python",
   "pygments_lexer": "ipython3",
   "version": "3.9.12"
  },
  "toc": {
   "base_numbering": 1,
   "nav_menu": {},
   "number_sections": true,
   "sideBar": true,
   "skip_h1_title": false,
   "title_cell": "Table of Contents",
   "title_sidebar": "Contents",
   "toc_cell": false,
   "toc_position": {
    "height": "calc(100% - 180px)",
    "left": "10px",
    "top": "150px",
    "width": "288px"
   },
   "toc_section_display": true,
   "toc_window_display": true
  },
  "varInspector": {
   "cols": {
    "lenName": 16,
    "lenType": 16,
    "lenVar": 40
   },
   "kernels_config": {
    "python": {
     "delete_cmd_postfix": "",
     "delete_cmd_prefix": "del ",
     "library": "var_list.py",
     "varRefreshCmd": "print(var_dic_list())"
    },
    "r": {
     "delete_cmd_postfix": ") ",
     "delete_cmd_prefix": "rm(",
     "library": "var_list.r",
     "varRefreshCmd": "cat(var_dic_list()) "
    }
   },
   "types_to_exclude": [
    "module",
    "function",
    "builtin_function_or_method",
    "instance",
    "_Feature"
   ],
   "window_display": false
  }
 },
 "nbformat": 4,
 "nbformat_minor": 5
}
