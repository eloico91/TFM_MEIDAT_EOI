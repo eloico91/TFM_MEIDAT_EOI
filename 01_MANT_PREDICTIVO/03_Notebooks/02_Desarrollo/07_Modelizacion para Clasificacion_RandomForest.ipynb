{
 "cells": [
  {
   "cell_type": "markdown",
   "id": "d31dea65",
   "metadata": {},
   "source": [
    "# MODELIZACIÓN PARA CLASIFICACIÓN"
   ]
  },
  {
   "cell_type": "markdown",
   "id": "8da437fb",
   "metadata": {},
   "source": [
    "**IMPORTANTE**: Esta plantilla está diseñada para una visión de máximos utilizando el framework de The Ultimate Algo Machine. Si tienes problemas de memoria o rendimiento recuerda reducir el problema mediante:\n",
    "\n",
    "* Muestreo\n",
    "* Balanceo undersampling\n",
    "* Reducir el número de algoritmos a testar\n",
    "* Reducir el número de parámetros a testar\n",
    "* Usar random search y especificar un n_iter adecuado"
   ]
  },
  {
   "cell_type": "markdown",
   "id": "swiss-fault",
   "metadata": {},
   "source": [
    "## IMPORTAR PAQUETES"
   ]
  },
  {
   "cell_type": "code",
   "execution_count": 1,
   "id": "adjacent-toddler",
   "metadata": {},
   "outputs": [
    {
     "name": "stderr",
     "output_type": "stream",
     "text": [
      "C:\\Users\\eloic\\miniconda3\\envs\\mant_predictivo\\lib\\site-packages\\xgboost\\compat.py:36: FutureWarning: pandas.Int64Index is deprecated and will be removed from pandas in a future version. Use pandas.Index with the appropriate dtype instead.\n",
      "  from pandas import MultiIndex, Int64Index\n"
     ]
    }
   ],
   "source": [
    "import numpy as np\n",
    "import pandas as pd\n",
    "import matplotlib.pyplot as plt\n",
    "%matplotlib inline\n",
    "\n",
    "from sklearn.model_selection import train_test_split\n",
    "\n",
    "from sklearn.linear_model import LogisticRegression\n",
    "from sklearn.ensemble import RandomForestClassifier\n",
    "from xgboost import XGBClassifier\n",
    "from sklearn.ensemble import HistGradientBoostingClassifier\n",
    "from sklearn.pipeline import Pipeline\n",
    "\n",
    "from sklearn.model_selection import GridSearchCV\n",
    "from sklearn.model_selection import RandomizedSearchCV\n",
    "\n",
    "from sklearn.metrics import roc_auc_score\n",
    "from sklearn.metrics import confusion_matrix\n",
    "from sklearn.metrics import plot_confusion_matrix\n",
    "from sklearn.metrics import classification_report\n",
    "\n",
    "from sklearn.metrics import plot_precision_recall_curve\n",
    "import scikitplot as skplt\n",
    "from yellowbrick.classifier import discrimination_threshold\n",
    "\n",
    "#Autocompletar rápido\n",
    "%config IPCompleter.greedy=True\n",
    "\n",
    "#Desactivar la notación científica\n",
    "pd.options.display.float_format = '{:.2f}'.format\n",
    "\n",
    "#Desactivar los warnings\n",
    "import warnings\n",
    "warnings.filterwarnings(\"ignore\")"
   ]
  },
  {
   "cell_type": "markdown",
   "id": "graduate-compensation",
   "metadata": {},
   "source": [
    "## IMPORTAR LOS DATOS"
   ]
  },
  {
   "cell_type": "markdown",
   "id": "3a5b94ef",
   "metadata": {},
   "source": [
    "Sustituir la ruta del proyecto."
   ]
  },
  {
   "cell_type": "code",
   "execution_count": 2,
   "id": "f9d2de58",
   "metadata": {},
   "outputs": [],
   "source": [
    "ruta_proyecto = 'C:/Users/eloic/Google Drive/EOI/TFM//01_MANT_PREDICTIVO'"
   ]
  },
  {
   "cell_type": "markdown",
   "id": "c3363765",
   "metadata": {},
   "source": [
    "Nombres de los ficheros de datos."
   ]
  },
  {
   "cell_type": "code",
   "execution_count": 3,
   "id": "a9e2e04a",
   "metadata": {},
   "outputs": [],
   "source": [
    "nombre_x = 'x_final.pickle'\n",
    "nombre_y = 'y_final.pickle'"
   ]
  },
  {
   "cell_type": "markdown",
   "id": "b9825018",
   "metadata": {},
   "source": [
    "Cargar los datos."
   ]
  },
  {
   "cell_type": "code",
   "execution_count": 4,
   "id": "cab6ebcd",
   "metadata": {},
   "outputs": [],
   "source": [
    "x = pd.read_pickle(ruta_proyecto + '/02_Datos/03_Trabajo/' + nombre_x)\n",
    "y = pd.read_pickle(ruta_proyecto + '/02_Datos/03_Trabajo/' + nombre_y)"
   ]
  },
  {
   "cell_type": "markdown",
   "id": "9790d322",
   "metadata": {},
   "source": [
    "## MODELIZAR"
   ]
  },
  {
   "cell_type": "markdown",
   "id": "930f685f",
   "metadata": {},
   "source": [
    "### Reservar el dataset de validacion"
   ]
  },
  {
   "cell_type": "code",
   "execution_count": 12,
   "id": "84b6fd41",
   "metadata": {},
   "outputs": [],
   "source": [
    "train_x,val_x,train_y,val_y = train_test_split(x,y,test_size=0.3)"
   ]
  },
  {
   "cell_type": "markdown",
   "id": "53bd4ad6",
   "metadata": {},
   "source": [
    "### Crear el pipe y el diccionario de algorimos, parámetros y valores a testar"
   ]
  },
  {
   "cell_type": "markdown",
   "id": "19b25807",
   "metadata": {},
   "source": [
    "Modificar para dejar solo los algoritmos que se quieran testar.\n",
    "\n",
    "Modificar los parámetros."
   ]
  },
  {
   "cell_type": "code",
   "execution_count": 6,
   "id": "3efa5c98",
   "metadata": {},
   "outputs": [],
   "source": [
    "pipe = Pipeline([('algoritmo',RandomForestClassifier())])\n",
    "\n",
    "grid = [\n",
    "#         {'algoritmo': [LogisticRegression()],\n",
    "#          'algoritmo__n_jobs': [-1],\n",
    "#          'algoritmo__solver': ['saga'],\n",
    "#          'algoritmo__penalty': ['elasticnet', 'l1', 'l2', 'none'],\n",
    "#          'algoritmo__C': [0,0.25,0.5,0.75,1]}\n",
    "        \n",
    "        {'algoritmo': [RandomForestClassifier()],\n",
    "         'algoritmo__n_jobs': [-1],\n",
    "         'algoritmo__max_depth': [5,10,15],\n",
    "         'algoritmo__n_estimators': [50,100,200]}\n",
    "        \n",
    "#         {'algoritmo': [XGBClassifier()],\n",
    "#          'algoritmo__n_jobs': [-1],\n",
    "#          'algoritmo__verbosity': [0],#para que no salgan warnings\n",
    "#          'algoritmo__learning_rate': [0.01,0.025,0.05,0.1],\n",
    "#          'algoritmo__max_depth': [5,10,20],\n",
    "#          'algoritmo__reg_alpha': [0,0.1,0.5,1],\n",
    "#          'algoritmo__reg_lambda': [0.01,0.1,1],\n",
    "#          'algoritmo__n_estimators': [100,500,1000]}\n",
    "       ]"
   ]
  },
  {
   "cell_type": "markdown",
   "id": "1f836ca9",
   "metadata": {},
   "source": [
    "### Optimizar los hiper parámetros"
   ]
  },
  {
   "cell_type": "markdown",
   "id": "32983bac",
   "metadata": {},
   "source": [
    "Elegir si se quiere usar grid search o random search.\n",
    "\n",
    "Comentar la opción que no se vaya a usar."
   ]
  },
  {
   "cell_type": "markdown",
   "id": "3d73daa9",
   "metadata": {},
   "source": [
    "####  Con grid search"
   ]
  },
  {
   "cell_type": "code",
   "execution_count": 7,
   "id": "4be08386",
   "metadata": {},
   "outputs": [],
   "source": [
    "# grid_search = GridSearchCV(estimator= pipe, \n",
    "#                            param_grid = grid, \n",
    "#                            cv = 3, \n",
    "#                            scoring = 'roc_auc',\n",
    "#                            verbose = 0,\n",
    "#                            n_jobs = -1)\n",
    "\n",
    "# modelo = grid_search.fit(train_x,train_y)\n",
    "\n",
    "# pd.DataFrame(grid_search.cv_results_).sort_values(by = 'rank_test_score')"
   ]
  },
  {
   "cell_type": "markdown",
   "id": "25d8aecf",
   "metadata": {},
   "source": [
    "####  Con random search"
   ]
  },
  {
   "cell_type": "code",
   "execution_count": 8,
   "id": "dcef4ab4",
   "metadata": {},
   "outputs": [
    {
     "data": {
      "text/html": [
       "<div>\n",
       "<style scoped>\n",
       "    .dataframe tbody tr th:only-of-type {\n",
       "        vertical-align: middle;\n",
       "    }\n",
       "\n",
       "    .dataframe tbody tr th {\n",
       "        vertical-align: top;\n",
       "    }\n",
       "\n",
       "    .dataframe thead th {\n",
       "        text-align: right;\n",
       "    }\n",
       "</style>\n",
       "<table border=\"1\" class=\"dataframe\">\n",
       "  <thead>\n",
       "    <tr style=\"text-align: right;\">\n",
       "      <th></th>\n",
       "      <th>mean_fit_time</th>\n",
       "      <th>std_fit_time</th>\n",
       "      <th>mean_score_time</th>\n",
       "      <th>std_score_time</th>\n",
       "      <th>param_algoritmo__n_jobs</th>\n",
       "      <th>param_algoritmo__n_estimators</th>\n",
       "      <th>param_algoritmo__max_depth</th>\n",
       "      <th>param_algoritmo</th>\n",
       "      <th>params</th>\n",
       "      <th>split0_test_score</th>\n",
       "      <th>split1_test_score</th>\n",
       "      <th>split2_test_score</th>\n",
       "      <th>mean_test_score</th>\n",
       "      <th>std_test_score</th>\n",
       "      <th>rank_test_score</th>\n",
       "    </tr>\n",
       "  </thead>\n",
       "  <tbody>\n",
       "    <tr>\n",
       "      <th>0</th>\n",
       "      <td>0.38</td>\n",
       "      <td>0.06</td>\n",
       "      <td>0.05</td>\n",
       "      <td>0.00</td>\n",
       "      <td>-1</td>\n",
       "      <td>100</td>\n",
       "      <td>15</td>\n",
       "      <td>RandomForestClassifier(max_depth=15, n_jobs=-1)</td>\n",
       "      <td>{'algoritmo__n_jobs': -1, 'algoritmo__n_estima...</td>\n",
       "      <td>0.79</td>\n",
       "      <td>0.68</td>\n",
       "      <td>0.81</td>\n",
       "      <td>0.76</td>\n",
       "      <td>0.06</td>\n",
       "      <td>1</td>\n",
       "    </tr>\n",
       "    <tr>\n",
       "      <th>1</th>\n",
       "      <td>0.24</td>\n",
       "      <td>0.01</td>\n",
       "      <td>0.04</td>\n",
       "      <td>0.01</td>\n",
       "      <td>-1</td>\n",
       "      <td>50</td>\n",
       "      <td>10</td>\n",
       "      <td>RandomForestClassifier(max_depth=15, n_jobs=-1)</td>\n",
       "      <td>{'algoritmo__n_jobs': -1, 'algoritmo__n_estima...</td>\n",
       "      <td>0.81</td>\n",
       "      <td>0.69</td>\n",
       "      <td>0.77</td>\n",
       "      <td>0.75</td>\n",
       "      <td>0.05</td>\n",
       "      <td>2</td>\n",
       "    </tr>\n",
       "    <tr>\n",
       "      <th>3</th>\n",
       "      <td>0.39</td>\n",
       "      <td>0.04</td>\n",
       "      <td>0.07</td>\n",
       "      <td>0.01</td>\n",
       "      <td>-1</td>\n",
       "      <td>100</td>\n",
       "      <td>10</td>\n",
       "      <td>RandomForestClassifier(max_depth=15, n_jobs=-1)</td>\n",
       "      <td>{'algoritmo__n_jobs': -1, 'algoritmo__n_estima...</td>\n",
       "      <td>0.82</td>\n",
       "      <td>0.65</td>\n",
       "      <td>0.78</td>\n",
       "      <td>0.75</td>\n",
       "      <td>0.07</td>\n",
       "      <td>3</td>\n",
       "    </tr>\n",
       "    <tr>\n",
       "      <th>4</th>\n",
       "      <td>0.70</td>\n",
       "      <td>0.13</td>\n",
       "      <td>0.08</td>\n",
       "      <td>0.00</td>\n",
       "      <td>-1</td>\n",
       "      <td>200</td>\n",
       "      <td>5</td>\n",
       "      <td>RandomForestClassifier(max_depth=15, n_jobs=-1)</td>\n",
       "      <td>{'algoritmo__n_jobs': -1, 'algoritmo__n_estima...</td>\n",
       "      <td>0.84</td>\n",
       "      <td>0.65</td>\n",
       "      <td>0.75</td>\n",
       "      <td>0.75</td>\n",
       "      <td>0.08</td>\n",
       "      <td>4</td>\n",
       "    </tr>\n",
       "    <tr>\n",
       "      <th>2</th>\n",
       "      <td>0.20</td>\n",
       "      <td>0.02</td>\n",
       "      <td>0.03</td>\n",
       "      <td>0.00</td>\n",
       "      <td>-1</td>\n",
       "      <td>50</td>\n",
       "      <td>15</td>\n",
       "      <td>RandomForestClassifier(max_depth=15, n_jobs=-1)</td>\n",
       "      <td>{'algoritmo__n_jobs': -1, 'algoritmo__n_estima...</td>\n",
       "      <td>0.82</td>\n",
       "      <td>0.69</td>\n",
       "      <td>0.73</td>\n",
       "      <td>0.75</td>\n",
       "      <td>0.06</td>\n",
       "      <td>5</td>\n",
       "    </tr>\n",
       "  </tbody>\n",
       "</table>\n",
       "</div>"
      ],
      "text/plain": [
       "   mean_fit_time  std_fit_time  mean_score_time  std_score_time  \\\n",
       "0           0.38          0.06             0.05            0.00   \n",
       "1           0.24          0.01             0.04            0.01   \n",
       "3           0.39          0.04             0.07            0.01   \n",
       "4           0.70          0.13             0.08            0.00   \n",
       "2           0.20          0.02             0.03            0.00   \n",
       "\n",
       "  param_algoritmo__n_jobs param_algoritmo__n_estimators  \\\n",
       "0                      -1                           100   \n",
       "1                      -1                            50   \n",
       "3                      -1                           100   \n",
       "4                      -1                           200   \n",
       "2                      -1                            50   \n",
       "\n",
       "  param_algoritmo__max_depth                                  param_algoritmo  \\\n",
       "0                         15  RandomForestClassifier(max_depth=15, n_jobs=-1)   \n",
       "1                         10  RandomForestClassifier(max_depth=15, n_jobs=-1)   \n",
       "3                         10  RandomForestClassifier(max_depth=15, n_jobs=-1)   \n",
       "4                          5  RandomForestClassifier(max_depth=15, n_jobs=-1)   \n",
       "2                         15  RandomForestClassifier(max_depth=15, n_jobs=-1)   \n",
       "\n",
       "                                              params  split0_test_score  \\\n",
       "0  {'algoritmo__n_jobs': -1, 'algoritmo__n_estima...               0.79   \n",
       "1  {'algoritmo__n_jobs': -1, 'algoritmo__n_estima...               0.81   \n",
       "3  {'algoritmo__n_jobs': -1, 'algoritmo__n_estima...               0.82   \n",
       "4  {'algoritmo__n_jobs': -1, 'algoritmo__n_estima...               0.84   \n",
       "2  {'algoritmo__n_jobs': -1, 'algoritmo__n_estima...               0.82   \n",
       "\n",
       "   split1_test_score  split2_test_score  mean_test_score  std_test_score  \\\n",
       "0               0.68               0.81             0.76            0.06   \n",
       "1               0.69               0.77             0.75            0.05   \n",
       "3               0.65               0.78             0.75            0.07   \n",
       "4               0.65               0.75             0.75            0.08   \n",
       "2               0.69               0.73             0.75            0.06   \n",
       "\n",
       "   rank_test_score  \n",
       "0                1  \n",
       "1                2  \n",
       "3                3  \n",
       "4                4  \n",
       "2                5  "
      ]
     },
     "execution_count": 8,
     "metadata": {},
     "output_type": "execute_result"
    }
   ],
   "source": [
    "random_search = RandomizedSearchCV(estimator = pipe,\n",
    "                                   param_distributions = grid, \n",
    "                                   n_iter = 5, \n",
    "                                   cv = 3, \n",
    "                                   scoring = 'roc_auc', \n",
    "                                   verbose = 0,\n",
    "                                   n_jobs = -1)\n",
    "\n",
    "modelo = random_search.fit(train_x,train_y)\n",
    "\n",
    "pd.DataFrame(random_search.cv_results_).sort_values(by = 'rank_test_score')"
   ]
  },
  {
   "cell_type": "markdown",
   "id": "fd6f59ab",
   "metadata": {},
   "source": [
    "## EVALUAR"
   ]
  },
  {
   "cell_type": "markdown",
   "id": "90ac986a",
   "metadata": {},
   "source": [
    "### Predecir sobre validación"
   ]
  },
  {
   "cell_type": "code",
   "execution_count": 13,
   "id": "ca079478",
   "metadata": {},
   "outputs": [],
   "source": [
    "pred = modelo.best_estimator_.predict_proba(val_x)[:, 1]"
   ]
  },
  {
   "cell_type": "markdown",
   "id": "fe9fb9a1",
   "metadata": {},
   "source": [
    "### Evaluar sobre validación"
   ]
  },
  {
   "cell_type": "code",
   "execution_count": 14,
   "id": "f249d6b8",
   "metadata": {},
   "outputs": [
    {
     "data": {
      "text/plain": [
       "0.8884154040404041"
      ]
     },
     "execution_count": 14,
     "metadata": {},
     "output_type": "execute_result"
    }
   ],
   "source": [
    "roc_auc_score(val_y, pred)"
   ]
  },
  {
   "cell_type": "markdown",
   "id": "87d46a1d",
   "metadata": {},
   "source": [
    "### Examinar el mejor modelo"
   ]
  },
  {
   "cell_type": "code",
   "execution_count": 15,
   "id": "f32990c1",
   "metadata": {},
   "outputs": [
    {
     "data": {
      "text/plain": [
       "Pipeline(steps=[('algoritmo', RandomForestClassifier(max_depth=15, n_jobs=-1))])"
      ]
     },
     "execution_count": 15,
     "metadata": {},
     "output_type": "execute_result"
    }
   ],
   "source": [
    "modelo.best_estimator_"
   ]
  },
  {
   "cell_type": "markdown",
   "id": "f2848960",
   "metadata": {},
   "source": [
    "## REPORTING DEL MODELO"
   ]
  },
  {
   "cell_type": "markdown",
   "id": "e25e2c94",
   "metadata": {},
   "source": [
    "### Gain Chart"
   ]
  },
  {
   "cell_type": "code",
   "execution_count": 16,
   "id": "2e63ef9d",
   "metadata": {},
   "outputs": [
    {
     "data": {
      "image/png": "[encoded data removed]",
      "text/plain": [
       "<Figure size 576x396 with 1 Axes>"
      ]
     },
     "metadata": {},
     "output_type": "display_data"
    }
   ],
   "source": [
    "fig, ax = plt.subplots()\n",
    "\n",
    "skplt.metrics.plot_cumulative_gain(val_y, modelo.best_estimator_.predict_proba(val_x), ax=ax) \n",
    "\n",
    "#Eliminamos la línea de los ceros y personalizamos la leyenda\n",
    "del ax.lines[0]                 \n",
    "plt.legend(labels = ['Modelo','Aleatoria']);"
   ]
  },
  {
   "cell_type": "markdown",
   "id": "148a74a7",
   "metadata": {},
   "source": [
    "### Lift Chart"
   ]
  },
  {
   "cell_type": "code",
   "execution_count": 17,
   "id": "32e69974",
   "metadata": {},
   "outputs": [
    {
     "data": {
      "image/png": "[encoded data removed]",
      "text/plain": [
       "<Figure size 576x396 with 1 Axes>"
      ]
     },
     "metadata": {},
     "output_type": "display_data"
    }
   ],
   "source": [
    "fig, ax = plt.subplots()\n",
    "\n",
    "skplt.metrics.plot_lift_curve(val_y, modelo.best_estimator_.predict_proba(val_x), ax=ax) \n",
    "\n",
    "#Eliminamos la línea de los ceros y personalizamos la leyenda\n",
    "del ax.lines[0]                 \n",
    "plt.legend(labels = ['Modelo','Aleatoria']);"
   ]
  },
  {
   "cell_type": "markdown",
   "id": "b0f64e40",
   "metadata": {},
   "source": [
    "### ROC Chart"
   ]
  },
  {
   "cell_type": "code",
   "execution_count": 18,
   "id": "a0f575cf",
   "metadata": {},
   "outputs": [
    {
     "data": {
      "image/png": "[encoded data removed]",
      "text/plain": [
       "<Figure size 576x396 with 1 Axes>"
      ]
     },
     "metadata": {},
     "output_type": "display_data"
    }
   ],
   "source": [
    "fig, ax = plt.subplots()\n",
    "\n",
    "skplt.metrics.plot_roc(val_y, modelo.best_estimator_.predict_proba(val_x), ax=ax) \n",
    "\n",
    "#Eliminamos la línea de los ceros y personalizamos la leyenda\n",
    "del ax.lines[0]                 \n",
    "del ax.lines[1] \n",
    "del ax.lines[1]\n",
    "plt.legend(labels = ['Modelo','Aleatoria']);"
   ]
  },
  {
   "cell_type": "code",
   "execution_count": null,
   "id": "4223235a",
   "metadata": {},
   "outputs": [],
   "source": []
  },
  {
   "cell_type": "code",
   "execution_count": null,
   "id": "d1d34739",
   "metadata": {},
   "outputs": [],
   "source": []
  }
 ],
 "metadata": {
  "kernelspec": {
   "display_name": "Python 3 (ipykernel)",
   "language": "python",
   "name": "python3"
  },
  "language_info": {
   "codemirror_mode": {
    "name": "ipython",
    "version": 3
   },
   "file_extension": ".py",
   "mimetype": "text/x-python",
   "name": "python",
   "nbconvert_exporter": "python",
   "pygments_lexer": "ipython3",
   "version": "3.9.12"
  },
  "toc": {
   "base_numbering": 1,
   "nav_menu": {},
   "number_sections": true,
   "sideBar": true,
   "skip_h1_title": false,
   "title_cell": "Table of Contents",
   "title_sidebar": "Contents",
   "toc_cell": false,
   "toc_position": {
    "height": "calc(100% - 180px)",
    "left": "10px",
    "top": "150px",
    "width": "253.95px"
   },
   "toc_section_display": true,
   "toc_window_display": true
  },
  "varInspector": {
   "cols": {
    "lenName": 16,
    "lenType": 16,
    "lenVar": 40
   },
   "kernels_config": {
    "python": {
     "delete_cmd_postfix": "",
     "delete_cmd_prefix": "del ",
     "library": "var_list.py",
     "varRefreshCmd": "print(var_dic_list())"
    },
    "r": {
     "delete_cmd_postfix": ") ",
     "delete_cmd_prefix": "rm(",
     "library": "var_list.r",
     "varRefreshCmd": "cat(var_dic_list()) "
    }
   },
   "position": {
    "height": "546.85px",
    "left": "1531.75px",
    "right": "20px",
    "top": "115px",
    "width": "350px"
   },
   "types_to_exclude": [
    "module",
    "function",
    "builtin_function_or_method",
    "instance",
    "_Feature"
   ],
   "window_display": false
  }
 },
 "nbformat": 4,
 "nbformat_minor": 5
}
